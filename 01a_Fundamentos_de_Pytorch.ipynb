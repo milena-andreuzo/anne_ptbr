{
  "nbformat": 4,
  "nbformat_minor": 0,
  "metadata": {
    "colab": {
      "provenance": [],
      "authorship_tag": "ABX9TyPOL2+i9yL6fdKfzIDjPnBn",
      "include_colab_link": true
    },
    "kernelspec": {
      "name": "python3",
      "display_name": "Python 3"
    },
    "language_info": {
      "name": "python"
    }
  },
  "cells": [
    {
      "cell_type": "markdown",
      "metadata": {
        "id": "view-in-github",
        "colab_type": "text"
      },
      "source": [
        "<a href=\"https://colab.research.google.com/github/vhrique/anne2024/blob/main/01a_Fundamentos_de_Pytorch.ipynb\" target=\"_parent\"><img src=\"https://colab.research.google.com/assets/colab-badge.svg\" alt=\"Open In Colab\"/></a>"
      ]
    },
    {
      "cell_type": "markdown",
      "source": [
        "# Pacotes Utilizados"
      ],
      "metadata": {
        "id": "Xv8q_zJRJfAR"
      }
    },
    {
      "cell_type": "code",
      "execution_count": 12,
      "metadata": {
        "id": "CLbDbYLcJYpz"
      },
      "outputs": [],
      "source": [
        "import torch\n",
        "import matplotlib.pyplot as plt\n",
        "\n",
        "from sklearn.datasets import make_moons\n",
        "from sklearn.metrics import classification_report\n",
        "from torch.utils.data import DataLoader, TensorDataset"
      ]
    },
    {
      "cell_type": "markdown",
      "source": [
        "# Dispositivo"
      ],
      "metadata": {
        "id": "uGrG817gLa5N"
      }
    },
    {
      "cell_type": "code",
      "source": [
        "device = 'cuda' if torch.cuda.is_available() else 'cpu'\n",
        "print(f'Dispositivo atual: {device}')"
      ],
      "metadata": {
        "colab": {
          "base_uri": "https://localhost:8080/"
        },
        "id": "_ZlO53fSKA1a",
        "outputId": "f983f9c9-4f6c-43b3-a825-7a795f089b18"
      },
      "execution_count": 2,
      "outputs": [
        {
          "output_type": "stream",
          "name": "stdout",
          "text": [
            "Dispositivo atual: cpu\n"
          ]
        }
      ]
    },
    {
      "cell_type": "markdown",
      "source": [
        "# Variáveis"
      ],
      "metadata": {
        "id": "-9mAdP0uJeUy"
      }
    },
    {
      "cell_type": "code",
      "source": [
        "# Criando variáveis simples no PyTorch como tensores\n",
        "a = torch.tensor(5)  # Um tensor escalar\n",
        "b = torch.tensor([1.0, 2.0, 3.0])  # Um tensor de 1D (vetor)\n",
        "\n",
        "print(f\"Variável escalar: {a}\")\n",
        "print(f\"Variável vetor: {b}\")"
      ],
      "metadata": {
        "id": "p-J0DYXTJa7t",
        "outputId": "f58f4db8-d6c3-4381-939f-800160a27423",
        "colab": {
          "base_uri": "https://localhost:8080/"
        }
      },
      "execution_count": 3,
      "outputs": [
        {
          "output_type": "stream",
          "name": "stdout",
          "text": [
            "Variável escalar: 5\n",
            "Variável vetor: tensor([1., 2., 3.])\n"
          ]
        }
      ]
    },
    {
      "cell_type": "code",
      "source": [
        "# Também é possível criar variáveis com dimensões mais altas\n",
        "c = torch.tensor([[1, 2], [3, 4]])  # Um tensor 2D (matriz)\n",
        "\n",
        "print(f\"Variável matriz: \\n{c}\")"
      ],
      "metadata": {
        "id": "_HzUXwcI_ZNR",
        "outputId": "4620f7f4-d921-4e56-9a60-08dc97176925",
        "colab": {
          "base_uri": "https://localhost:8080/"
        }
      },
      "execution_count": 4,
      "outputs": [
        {
          "output_type": "stream",
          "name": "stdout",
          "text": [
            "Variável matriz: \n",
            "tensor([[1, 2],\n",
            "        [3, 4]])\n"
          ]
        }
      ]
    },
    {
      "cell_type": "code",
      "source": [
        "# Podemos criar tensores com tipos específicos\n",
        "d = torch.tensor([1.0, 2.0, 3.0], dtype=torch.float32)  # Um tensor com precisão em ponto flutuante\n",
        "\n",
        "print(f\"Variável de ponto flutuante: {d}\")"
      ],
      "metadata": {
        "id": "9Zn5Cgk4_asx",
        "outputId": "09e435e9-7fc8-4ff6-caf8-068af288a534",
        "colab": {
          "base_uri": "https://localhost:8080/"
        }
      },
      "execution_count": 5,
      "outputs": [
        {
          "output_type": "stream",
          "name": "stdout",
          "text": [
            "Variável de ponto flutuante: tensor([1., 2., 3.])\n"
          ]
        }
      ]
    },
    {
      "cell_type": "markdown",
      "source": [
        "# Operações"
      ],
      "metadata": {
        "id": "ADDK1093Kt0v"
      }
    },
    {
      "cell_type": "code",
      "source": [
        "# Operações básicas com tensores\n",
        "x = torch.tensor([2.0, 3.0, 4.0])\n",
        "y = torch.tensor([1.0, 5.0, 7.0])"
      ],
      "metadata": {
        "id": "Hwqxfk8HLEuD"
      },
      "execution_count": 6,
      "outputs": []
    },
    {
      "cell_type": "code",
      "source": [
        "# Soma\n",
        "soma = x + y\n",
        "print(f\"Soma: {soma}\")\n",
        "\n",
        "# Subtração\n",
        "subtracao = x - y\n",
        "print(f\"Subtração: {subtracao}\")"
      ],
      "metadata": {
        "colab": {
          "base_uri": "https://localhost:8080/"
        },
        "id": "HyChNDEoLJvr",
        "outputId": "dedd0280-92ed-4edf-e82e-1498214bd54f"
      },
      "execution_count": 8,
      "outputs": [
        {
          "output_type": "stream",
          "name": "stdout",
          "text": [
            "Soma: tensor([ 3.,  8., 11.])\n",
            "Subtração: tensor([ 1., -2., -3.])\n"
          ]
        }
      ]
    },
    {
      "cell_type": "code",
      "source": [
        "# Multiplicação\n",
        "multiplicacao = x * y\n",
        "print(f\"Multiplicação: {multiplicacao}\")\n",
        "\n",
        "# Divisão\n",
        "divisao = x / y\n",
        "print(f\"Divisão: {divisao}\")"
      ],
      "metadata": {
        "colab": {
          "base_uri": "https://localhost:8080/"
        },
        "id": "2_yK95n5JvYL",
        "outputId": "d90d9a79-5d2f-42a2-defe-1de2cfac6f6f"
      },
      "execution_count": 9,
      "outputs": [
        {
          "output_type": "stream",
          "name": "stdout",
          "text": [
            "Multiplicação: tensor([ 2., 15., 28.])\n",
            "Divisão: tensor([2.0000, 0.6000, 0.5714])\n"
          ]
        }
      ]
    },
    {
      "cell_type": "code",
      "source": [
        "# Produto escalar\n",
        "produto_escalar = torch.dot(x, y)\n",
        "print(f\"Produto escalar: {produto_escalar}\")"
      ],
      "metadata": {
        "colab": {
          "base_uri": "https://localhost:8080/"
        },
        "id": "MzHjOKk5LkMg",
        "outputId": "5c4ce8cb-8f7c-42ff-9e0d-19d3a209628d"
      },
      "execution_count": 10,
      "outputs": [
        {
          "output_type": "stream",
          "name": "stdout",
          "text": [
            "Produto escalar: 45.0\n"
          ]
        }
      ]
    },
    {
      "cell_type": "code",
      "source": [
        "# Funções matemáticas\n",
        "exp = torch.exp(x)  # Exponencial\n",
        "print(f\"Exponencial: {exp}\")"
      ],
      "metadata": {
        "colab": {
          "base_uri": "https://localhost:8080/"
        },
        "id": "uO7YxQIULnz2",
        "outputId": "9007e48c-ab1d-46ba-b76a-1a79cdcb5455"
      },
      "execution_count": 11,
      "outputs": [
        {
          "output_type": "stream",
          "name": "stdout",
          "text": [
            "Exponencial: tensor([ 7.3891, 20.0855, 54.5981])\n"
          ]
        }
      ]
    },
    {
      "cell_type": "code",
      "source": [
        "# Criando matrizes (tensores 2D)\n",
        "A = torch.tensor([[1.0, 2.0], [3.0, 4.0]])  # Matriz 2x2\n",
        "B = torch.tensor([[5.0, 6.0], [7.0, 8.0]])  # Outra Matriz 2x2\n",
        "\n",
        "# Multiplicação elemento a elemento (Hadamard product)\n",
        "elementwise_mult = A * B\n",
        "print(f\"Multiplicação elemento a elemento: \\n{elementwise_mult}\")"
      ],
      "metadata": {
        "id": "u01IDkogC-IF",
        "outputId": "21a93850-8a81-4be1-ffa7-dbe0f5b436a5",
        "colab": {
          "base_uri": "https://localhost:8080/"
        }
      },
      "execution_count": 69,
      "outputs": [
        {
          "output_type": "stream",
          "name": "stdout",
          "text": [
            "Multiplicação elemento a elemento: \n",
            "tensor([[ 5., 12.],\n",
            "        [21., 32.]])\n"
          ]
        }
      ]
    },
    {
      "cell_type": "code",
      "source": [
        "# Multiplicação de matrizes (produto de matrizes)\n",
        "matrix_mult = torch.matmul(A, B)\n",
        "print(f\"Multiplicação de matrizes: \\n{matrix_mult}\")"
      ],
      "metadata": {
        "id": "q0HaXZZdDGq7",
        "outputId": "bbb7bd87-9aad-4615-b256-af6f4c964fee",
        "colab": {
          "base_uri": "https://localhost:8080/"
        }
      },
      "execution_count": 70,
      "outputs": [
        {
          "output_type": "stream",
          "name": "stdout",
          "text": [
            "Multiplicação de matrizes: \n",
            "tensor([[19., 22.],\n",
            "        [43., 50.]])\n"
          ]
        }
      ]
    },
    {
      "cell_type": "code",
      "source": [
        "# Transposição de matriz\n",
        "A_transpose = torch.transpose(A, 0, 1)\n",
        "print(f\"Transposta da matriz A: \\n{A_transpose}\")"
      ],
      "metadata": {
        "id": "GLJhTi9sDIhM",
        "outputId": "2b995a39-1a33-4963-a4d7-2b61fe331895",
        "colab": {
          "base_uri": "https://localhost:8080/"
        }
      },
      "execution_count": 71,
      "outputs": [
        {
          "output_type": "stream",
          "name": "stdout",
          "text": [
            "Transposta da matriz A: \n",
            "tensor([[1., 3.],\n",
            "        [2., 4.]])\n"
          ]
        }
      ]
    },
    {
      "cell_type": "code",
      "source": [
        "# Inversão de uma matriz (usando tensores quadrados invertíveis)\n",
        "A_inv = torch.inverse(A)\n",
        "print(f\"Inversa da matriz A: \\n{A_inv}\")"
      ],
      "metadata": {
        "id": "xnJwVmrKDLRV",
        "outputId": "6affa8d6-88af-4c5d-e77c-fdeea7f04ace",
        "colab": {
          "base_uri": "https://localhost:8080/"
        }
      },
      "execution_count": 72,
      "outputs": [
        {
          "output_type": "stream",
          "name": "stdout",
          "text": [
            "Inversa da matriz A: \n",
            "tensor([[-2.0000,  1.0000],\n",
            "        [ 1.5000, -0.5000]])\n"
          ]
        }
      ]
    },
    {
      "cell_type": "code",
      "source": [
        "# Produto de uma matriz com sua transposta\n",
        "A_mult_transpose = torch.matmul(A, A_transpose)\n",
        "print(f\"Produto de A com sua transposta: \\n{A_mult_transpose}\")"
      ],
      "metadata": {
        "id": "iDomz2QTDNxf",
        "outputId": "ee1badc0-4a62-484e-d281-d2b32c303cbd",
        "colab": {
          "base_uri": "https://localhost:8080/"
        }
      },
      "execution_count": 73,
      "outputs": [
        {
          "output_type": "stream",
          "name": "stdout",
          "text": [
            "Produto de A com sua transposta: \n",
            "tensor([[ 5., 11.],\n",
            "        [11., 25.]])\n"
          ]
        }
      ]
    },
    {
      "cell_type": "markdown",
      "source": [
        "# Redes Neurais"
      ],
      "metadata": {
        "id": "2n3ZZLO1L8H-"
      }
    },
    {
      "cell_type": "markdown",
      "source": [
        "## Representação"
      ],
      "metadata": {
        "id": "oZ8ZDqtlMBUG"
      }
    },
    {
      "cell_type": "code",
      "source": [
        "class MLP(torch.nn.Module):\n",
        "    def __init__(self, input_size, hidden_size):\n",
        "        super(MLP, self).__init__()\n",
        "        self.hidden_layer = torch.nn.Linear(input_size, hidden_size)\n",
        "        self.output_layer = torch.nn.Linear(hidden_size, 1)\n",
        "\n",
        "    def forward(self, x):\n",
        "        x = torch.nn.functional.sigmoid(self.hidden_layer(x))\n",
        "        return torch.nn.functional.sigmoid(self.output_layer(x))\n"
      ],
      "metadata": {
        "id": "AnL2pqfWL639"
      },
      "execution_count": 22,
      "outputs": []
    },
    {
      "cell_type": "code",
      "source": [
        "model = MLP(2, 3)"
      ],
      "metadata": {
        "id": "N4hVd-U2MrA3"
      },
      "execution_count": 62,
      "outputs": []
    },
    {
      "cell_type": "code",
      "source": [
        "model(torch.Tensor([[0, 0]]))"
      ],
      "metadata": {
        "colab": {
          "base_uri": "https://localhost:8080/"
        },
        "id": "pQiHCbRpM6jL",
        "outputId": "2579e001-6c30-4131-9c49-9fceabbdf02a"
      },
      "execution_count": 63,
      "outputs": [
        {
          "output_type": "execute_result",
          "data": {
            "text/plain": [
              "tensor([[0.4265]], grad_fn=<SigmoidBackward0>)"
            ]
          },
          "metadata": {},
          "execution_count": 63
        }
      ]
    },
    {
      "cell_type": "markdown",
      "source": [
        "## Loss e Otimizador"
      ],
      "metadata": {
        "id": "j46s0mhSOSr-"
      }
    },
    {
      "cell_type": "code",
      "source": [
        "criterion = torch.nn.BCELoss()\n",
        "optimizer = torch.optim.Adam(model.parameters(), lr=0.01)"
      ],
      "metadata": {
        "id": "JhMUW3OQOQCI"
      },
      "execution_count": 65,
      "outputs": []
    },
    {
      "cell_type": "markdown",
      "source": [
        "## Dataset"
      ],
      "metadata": {
        "id": "LOa2wt7sDa2z"
      }
    },
    {
      "cell_type": "code",
      "source": [
        "X, y = make_moons(n_samples=200, noise=0.1, random_state=42)\n",
        "\n",
        "X = torch.tensor(X, dtype=torch.float32)\n",
        "y = torch.tensor(y, dtype=torch.float32).unsqueeze(1)\n",
        "\n",
        "dataset = TensorDataset(X, y)\n",
        "dataloader = DataLoader(dataset, batch_size=32, shuffle=True)"
      ],
      "metadata": {
        "id": "zLHdo17VNs5x"
      },
      "execution_count": 64,
      "outputs": []
    },
    {
      "cell_type": "markdown",
      "source": [
        "## Treinamento"
      ],
      "metadata": {
        "id": "lCg1iiVPOfOj"
      }
    },
    {
      "cell_type": "code",
      "source": [
        "num_epochs = 200\n",
        "loss_logs = []\n",
        "\n",
        "for epoch in range(num_epochs):\n",
        "\n",
        "    # Start epoch loss\n",
        "    running_loss = 0.0\n",
        "\n",
        "    for b, (X_batch, y_batch) in enumerate(dataloader):\n",
        "\n",
        "        # Forward pass\n",
        "        outputs = model(X_batch)\n",
        "        loss = criterion(outputs, y_batch)\n",
        "\n",
        "        # Backward pass and optimization\n",
        "        optimizer.zero_grad()\n",
        "        loss.backward()\n",
        "        optimizer.step()\n",
        "\n",
        "        # Update running loss\n",
        "        running_loss += loss.item()\n",
        "\n",
        "    # Update epoch loss\n",
        "    loss_logs.append(running_loss/b)\n",
        "\n",
        "# Plot loss\n",
        "plt.plot(loss_logs)\n",
        "plt.ylabel('Loss')\n",
        "plt.xlabel('Epoch')\n",
        "plt.show()"
      ],
      "metadata": {
        "colab": {
          "base_uri": "https://localhost:8080/",
          "height": 449
        },
        "id": "iBXVSRQNOeSZ",
        "outputId": "c996e401-4627-4650-8d6e-c2e82d1be5f6"
      },
      "execution_count": 66,
      "outputs": [
        {
          "output_type": "display_data",
          "data": {
            "text/plain": [
              "<Figure size 640x480 with 1 Axes>"
            ],
            "image/png": "[encoded data removed]"
          },
          "metadata": {}
        }
      ]
    },
    {
      "cell_type": "markdown",
      "source": [
        "## Avaliação"
      ],
      "metadata": {
        "id": "0W8UDLVCOz1H"
      }
    },
    {
      "cell_type": "code",
      "source": [
        "with torch.no_grad():\n",
        "    outputs = model(X)\n",
        "\n",
        "print(\n",
        "    classification_report(\n",
        "        y.detach().numpy(),\n",
        "        outputs.detach().numpy() > 0.5\n",
        "    )\n",
        ")"
      ],
      "metadata": {
        "colab": {
          "base_uri": "https://localhost:8080/"
        },
        "id": "qEMEm7NvOyZI",
        "outputId": "485e5278-f241-4668-c5d6-be777f594318"
      },
      "execution_count": 67,
      "outputs": [
        {
          "output_type": "stream",
          "name": "stdout",
          "text": [
            "              precision    recall  f1-score   support\n",
            "\n",
            "         0.0       0.84      0.86      0.85       100\n",
            "         1.0       0.86      0.84      0.85       100\n",
            "\n",
            "    accuracy                           0.85       200\n",
            "   macro avg       0.85      0.85      0.85       200\n",
            "weighted avg       0.85      0.85      0.85       200\n",
            "\n"
          ]
        }
      ]
    }
  ]
}