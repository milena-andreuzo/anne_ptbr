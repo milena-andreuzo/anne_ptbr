{
  "nbformat": 4,
  "nbformat_minor": 0,
  "metadata": {
    "colab": {
      "provenance": [],
      "authorship_tag": "ABX9TyO3YY0QQon9Q2Ehrdw9NxcB",
      "include_colab_link": true
    },
    "kernelspec": {
      "name": "python3",
      "display_name": "Python 3"
    },
    "language_info": {
      "name": "python"
    }
  },
  "cells": [
    {
      "cell_type": "markdown",
      "metadata": {
        "id": "view-in-github",
        "colab_type": "text"
      },
      "source": [
        "<a href=\"https://colab.research.google.com/github/vhrique/anne2024/blob/main/01a_Fundamentos_de_Pytorch.ipynb\" target=\"_parent\"><img src=\"https://colab.research.google.com/assets/colab-badge.svg\" alt=\"Open In Colab\"/></a>"
      ]
    },
    {
      "cell_type": "markdown",
      "source": [
        "# Pacotes Utilizados"
      ],
      "metadata": {
        "id": "Xv8q_zJRJfAR"
      }
    },
    {
      "cell_type": "code",
      "execution_count": 57,
      "metadata": {
        "id": "CLbDbYLcJYpz"
      },
      "outputs": [],
      "source": [
        "import torch\n",
        "\n",
        "from sklearn.datasets import make_moons\n",
        "from sklearn.metrics import classification_report\n",
        "from torch.utils.data import DataLoader, TensorDataset"
      ]
    },
    {
      "cell_type": "markdown",
      "source": [
        "# Dispositivo"
      ],
      "metadata": {
        "id": "uGrG817gLa5N"
      }
    },
    {
      "cell_type": "code",
      "source": [
        "device = 'cuda' if torch.cuda.is_available() else 'cpu'\n",
        "print(f'Dispositivo atual: {device}')"
      ],
      "metadata": {
        "colab": {
          "base_uri": "https://localhost:8080/"
        },
        "id": "_ZlO53fSKA1a",
        "outputId": "1b3a4a45-895d-41ef-8405-7c25a7031140"
      },
      "execution_count": 20,
      "outputs": [
        {
          "output_type": "stream",
          "name": "stdout",
          "text": [
            "Dispositivo atual: cpu\n"
          ]
        }
      ]
    },
    {
      "cell_type": "markdown",
      "source": [
        "# Tensores"
      ],
      "metadata": {
        "id": "-9mAdP0uJeUy"
      }
    },
    {
      "cell_type": "code",
      "source": [
        "a = torch.tensor([1,2,3])\n",
        "M = torch.tensor([[4,5,6],[7,8,9]])"
      ],
      "metadata": {
        "id": "p-J0DYXTJa7t"
      },
      "execution_count": 52,
      "outputs": []
    },
    {
      "cell_type": "markdown",
      "source": [
        "# Operações"
      ],
      "metadata": {
        "id": "ADDK1093Kt0v"
      }
    },
    {
      "cell_type": "code",
      "source": [
        "a, a+1"
      ],
      "metadata": {
        "colab": {
          "base_uri": "https://localhost:8080/"
        },
        "id": "Hwqxfk8HLEuD",
        "outputId": "029cbb09-6a7f-4d1e-c2c6-ced3d2f16225"
      },
      "execution_count": 22,
      "outputs": [
        {
          "output_type": "execute_result",
          "data": {
            "text/plain": [
              "(tensor([1., 2., 3.]), tensor([2., 3., 4.]))"
            ]
          },
          "metadata": {},
          "execution_count": 22
        }
      ]
    },
    {
      "cell_type": "code",
      "source": [
        "M, M+1"
      ],
      "metadata": {
        "colab": {
          "base_uri": "https://localhost:8080/"
        },
        "id": "HyChNDEoLJvr",
        "outputId": "e29580e0-84a1-4134-85c5-894a36a49899"
      },
      "execution_count": 23,
      "outputs": [
        {
          "output_type": "execute_result",
          "data": {
            "text/plain": [
              "(tensor([[4., 5., 6.],\n",
              "         [7., 8., 9.]]),\n",
              " tensor([[ 5.,  6.,  7.],\n",
              "         [ 8.,  9., 10.]]))"
            ]
          },
          "metadata": {},
          "execution_count": 23
        }
      ]
    },
    {
      "cell_type": "code",
      "source": [
        "M, M.T"
      ],
      "metadata": {
        "colab": {
          "base_uri": "https://localhost:8080/"
        },
        "id": "2_yK95n5JvYL",
        "outputId": "40efd059-fbb3-4569-c6de-5e154840c8eb"
      },
      "execution_count": 24,
      "outputs": [
        {
          "output_type": "execute_result",
          "data": {
            "text/plain": [
              "(tensor([[4., 5., 6.],\n",
              "         [7., 8., 9.]]),\n",
              " tensor([[4., 7.],\n",
              "         [5., 8.],\n",
              "         [6., 9.]]))"
            ]
          },
          "metadata": {},
          "execution_count": 24
        }
      ]
    },
    {
      "cell_type": "code",
      "source": [
        "a*M"
      ],
      "metadata": {
        "colab": {
          "base_uri": "https://localhost:8080/"
        },
        "id": "MzHjOKk5LkMg",
        "outputId": "7e6c89fb-6b5b-466f-de07-77ff07f09d50"
      },
      "execution_count": 25,
      "outputs": [
        {
          "output_type": "execute_result",
          "data": {
            "text/plain": [
              "tensor([[ 4., 10., 18.],\n",
              "        [ 7., 16., 27.]])"
            ]
          },
          "metadata": {},
          "execution_count": 25
        }
      ]
    },
    {
      "cell_type": "code",
      "source": [
        "a.dot(a)"
      ],
      "metadata": {
        "colab": {
          "base_uri": "https://localhost:8080/"
        },
        "id": "uO7YxQIULnz2",
        "outputId": "8f04cabb-aed0-4855-da12-4ae772e8c89c"
      },
      "execution_count": 30,
      "outputs": [
        {
          "output_type": "execute_result",
          "data": {
            "text/plain": [
              "tensor(14.)"
            ]
          },
          "metadata": {},
          "execution_count": 30
        }
      ]
    },
    {
      "cell_type": "code",
      "source": [
        "a@M.T"
      ],
      "metadata": {
        "colab": {
          "base_uri": "https://localhost:8080/"
        },
        "id": "FVL0exS2L1dP",
        "outputId": "54d47ddb-6676-4e12-d793-8c43c81dee05"
      },
      "execution_count": 33,
      "outputs": [
        {
          "output_type": "execute_result",
          "data": {
            "text/plain": [
              "tensor([32., 50.])"
            ]
          },
          "metadata": {},
          "execution_count": 33
        }
      ]
    },
    {
      "cell_type": "code",
      "source": [
        "M@M.T"
      ],
      "metadata": {
        "colab": {
          "base_uri": "https://localhost:8080/"
        },
        "id": "047B7OIiLzRp",
        "outputId": "9b024623-1484-4500-e1c1-2ab61dbafe84"
      },
      "execution_count": 32,
      "outputs": [
        {
          "output_type": "execute_result",
          "data": {
            "text/plain": [
              "tensor([[ 77., 122.],\n",
              "        [122., 194.]])"
            ]
          },
          "metadata": {},
          "execution_count": 32
        }
      ]
    },
    {
      "cell_type": "markdown",
      "source": [
        "# Módulos"
      ],
      "metadata": {
        "id": "2n3ZZLO1L8H-"
      }
    },
    {
      "cell_type": "markdown",
      "source": [
        "## Modelos"
      ],
      "metadata": {
        "id": "oZ8ZDqtlMBUG"
      }
    },
    {
      "cell_type": "code",
      "source": [
        "class MLP(torch.nn.Module):\n",
        "    def __init__(self, input_size, hidden_size):\n",
        "        super(MLP, self).__init__()\n",
        "        self.hidden_layer = torch.nn.Linear(input_size, hidden_size)\n",
        "        self.output_layer = torch.nn.Linear(hidden_size, 1)\n",
        "\n",
        "    def forward(self, x):\n",
        "        x = torch.nn.functional.sigmoid(self.hidden_layer(x))\n",
        "        return torch.nn.functional.sigmoid(self.output_layer(x))\n",
        ""
      ],
      "metadata": {
        "id": "AnL2pqfWL639"
      },
      "execution_count": 44,
      "outputs": []
    },
    {
      "cell_type": "code",
      "source": [
        "model = MLP(2, 3)"
      ],
      "metadata": {
        "id": "N4hVd-U2MrA3"
      },
      "execution_count": 83,
      "outputs": []
    },
    {
      "cell_type": "code",
      "source": [
        "model(torch.Tensor([[0, 0]]))"
      ],
      "metadata": {
        "colab": {
          "base_uri": "https://localhost:8080/"
        },
        "id": "pQiHCbRpM6jL",
        "outputId": "16b72276-d760-4683-adfb-fa130ad16d62"
      },
      "execution_count": 48,
      "outputs": [
        {
          "output_type": "execute_result",
          "data": {
            "text/plain": [
              "tensor([[0.4547]], grad_fn=<SigmoidBackward0>)"
            ]
          },
          "metadata": {},
          "execution_count": 48
        }
      ]
    },
    {
      "cell_type": "markdown",
      "source": [
        "## Dataset"
      ],
      "metadata": {
        "id": "X1k7EyexNvzW"
      }
    },
    {
      "cell_type": "code",
      "source": [
        "X, y = make_moons(n_samples=200, noise=0.1, random_state=42)\n",
        "\n",
        "X = torch.tensor(X, dtype=torch.float32)\n",
        "y = torch.tensor(y, dtype=torch.float32).unsqueeze(1)\n",
        "\n",
        "dataset = TensorDataset(X, y)\n",
        "dataloader = DataLoader(dataset, batch_size=32, shuffle=True)"
      ],
      "metadata": {
        "id": "zLHdo17VNs5x"
      },
      "execution_count": 84,
      "outputs": []
    },
    {
      "cell_type": "markdown",
      "source": [
        "## Loss e Otimizador"
      ],
      "metadata": {
        "id": "j46s0mhSOSr-"
      }
    },
    {
      "cell_type": "code",
      "source": [
        "criterion = torch.nn.BCELoss()\n",
        "optimizer = torch.optim.Adam(model.parameters(), lr=0.01)"
      ],
      "metadata": {
        "id": "JhMUW3OQOQCI"
      },
      "execution_count": 85,
      "outputs": []
    },
    {
      "cell_type": "markdown",
      "source": [
        "## Treinamento"
      ],
      "metadata": {
        "id": "lCg1iiVPOfOj"
      }
    },
    {
      "cell_type": "code",
      "source": [
        "num_epochs = 100\n",
        "for epoch in range(num_epochs):\n",
        "    for X_batch, y_batch in dataloader:\n",
        "        # Forward pass\n",
        "        outputs = model(X_batch)\n",
        "        loss = criterion(outputs, y_batch)\n",
        "\n",
        "        # Backward pass and optimization\n",
        "        optimizer.zero_grad()\n",
        "        loss.backward()\n",
        "        optimizer.step()\n",
        "\n",
        "    if epoch % 10 == 0:\n",
        "        print(f'Epoch [{epoch+1}/{num_epochs}], Loss: {loss.item():.4f}')"
      ],
      "metadata": {
        "colab": {
          "base_uri": "https://localhost:8080/"
        },
        "id": "iBXVSRQNOeSZ",
        "outputId": "68fef568-3d68-4729-8f2d-d115530612be"
      },
      "execution_count": 86,
      "outputs": [
        {
          "output_type": "stream",
          "name": "stdout",
          "text": [
            "Epoch [1/100], Loss: 0.6573\n",
            "Epoch [11/100], Loss: 0.5864\n",
            "Epoch [21/100], Loss: 0.4249\n",
            "Epoch [31/100], Loss: 0.3534\n",
            "Epoch [41/100], Loss: 0.3827\n",
            "Epoch [51/100], Loss: 0.1541\n",
            "Epoch [61/100], Loss: 0.5138\n",
            "Epoch [71/100], Loss: 0.2386\n",
            "Epoch [81/100], Loss: 0.2656\n",
            "Epoch [91/100], Loss: 0.3927\n"
          ]
        }
      ]
    },
    {
      "cell_type": "markdown",
      "source": [
        "## Avaliação"
      ],
      "metadata": {
        "id": "0W8UDLVCOz1H"
      }
    },
    {
      "cell_type": "code",
      "source": [
        "with torch.no_grad():\n",
        "    outputs = model(X)\n",
        "\n",
        "print(\n",
        "    classification_report(\n",
        "        y.detach().numpy(),\n",
        "        outputs.detach().numpy() > 0.5\n",
        "    )\n",
        ")"
      ],
      "metadata": {
        "colab": {
          "base_uri": "https://localhost:8080/"
        },
        "id": "qEMEm7NvOyZI",
        "outputId": "c57aa999-52ef-4d30-bd9f-c419382a8273"
      },
      "execution_count": 87,
      "outputs": [
        {
          "output_type": "stream",
          "name": "stdout",
          "text": [
            "              precision    recall  f1-score   support\n",
            "\n",
            "         0.0       0.85      0.89      0.87       100\n",
            "         1.0       0.88      0.84      0.86       100\n",
            "\n",
            "    accuracy                           0.86       200\n",
            "   macro avg       0.87      0.86      0.86       200\n",
            "weighted avg       0.87      0.86      0.86       200\n",
            "\n"
          ]
        }
      ]
    }
  ]
}