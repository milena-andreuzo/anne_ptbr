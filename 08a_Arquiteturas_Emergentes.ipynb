{
  "nbformat": 4,
  "nbformat_minor": 0,
  "metadata": {
    "colab": {
      "provenance": [],
      "authorship_tag": "ABX9TyOqEniDn6TtFHyCSB9UvmYJ",
      "include_colab_link": true
    },
    "kernelspec": {
      "name": "python3",
      "display_name": "Python 3"
    },
    "language_info": {
      "name": "python"
    }
  },
  "cells": [
    {
      "cell_type": "markdown",
      "metadata": {
        "id": "view-in-github",
        "colab_type": "text"
      },
      "source": [
        "<a href=\"https://colab.research.google.com/github/vhrique/anne_ptbr/blob/main/08a_Arquiteturas_Emergentes.ipynb\" target=\"_parent\"><img src=\"https://colab.research.google.com/assets/colab-badge.svg\" alt=\"Open In Colab\"/></a>"
      ]
    },
    {
      "cell_type": "markdown",
      "source": [
        "# Arquiteturas Emergentes"
      ],
      "metadata": {
        "id": "7BIEtjq_uf2W"
      }
    },
    {
      "cell_type": "markdown",
      "source": [
        "## Combinação de Modelos com Misture of Experts"
      ],
      "metadata": {
        "id": "KzZF66G7ukqh"
      }
    },
    {
      "cell_type": "markdown",
      "source": [
        "## Novas Redes Neurais - Deep Equilibrium Networks"
      ],
      "metadata": {
        "id": "aS_ER3n5um2m"
      }
    },
    {
      "cell_type": "markdown",
      "source": [
        "## Trabalhando com Grafos usando Graph Neural Networks"
      ],
      "metadata": {
        "id": "kv6XHiAwuqJp"
      }
    },
    {
      "cell_type": "markdown",
      "source": [
        "## Trabalhando com Nuvem de Pontos utilizando PointNet"
      ],
      "metadata": {
        "id": "uK4OiQNkuvwc"
      }
    },
    {
      "cell_type": "markdown",
      "source": [
        "## Gerando Imagens com Diffusion"
      ],
      "metadata": {
        "id": "PI70Xfsauy1j"
      }
    },
    {
      "cell_type": "markdown",
      "source": [
        "## Gerando Ambientes 3D com Neural Radiance Fields e 3D Gaussian Splatting"
      ],
      "metadata": {
        "id": "a5aWcT77vFjH"
      }
    },
    {
      "cell_type": "markdown",
      "source": [
        "## Aprendendo Pesos de Redes Neurais com HyperNetworks"
      ],
      "metadata": {
        "id": "nYJXDRLEuibw"
      }
    },
    {
      "cell_type": "markdown",
      "source": [
        "# Considerações Finais"
      ],
      "metadata": {
        "id": "JH6FxdY7vRiv"
      }
    },
    {
      "cell_type": "markdown",
      "source": [
        "# Referências"
      ],
      "metadata": {
        "id": "n4ZBPPy4vTFF"
      }
    }
  ]
}