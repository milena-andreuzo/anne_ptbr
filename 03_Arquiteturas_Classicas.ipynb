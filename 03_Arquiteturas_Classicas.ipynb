{
  "nbformat": 4,
  "nbformat_minor": 0,
  "metadata": {
    "colab": {
      "provenance": [],
      "authorship_tag": "ABX9TyMqbf6zdms8Yl5MFXD7r0Fm",
      "include_colab_link": true
    },
    "kernelspec": {
      "name": "python3",
      "display_name": "Python 3"
    },
    "language_info": {
      "name": "python"
    }
  },
  "cells": [
    {
      "cell_type": "markdown",
      "metadata": {
        "id": "view-in-github",
        "colab_type": "text"
      },
      "source": [
        "<a href=\"https://colab.research.google.com/github/vhrique/anne2024/blob/main/03_Arquiteturas_Classicas.ipynb\" target=\"_parent\"><img src=\"https://colab.research.google.com/assets/colab-badge.svg\" alt=\"Open In Colab\"/></a>"
      ]
    },
    {
      "cell_type": "code",
      "execution_count": null,
      "metadata": {
        "id": "plptq7bnN5Ne"
      },
      "outputs": [],
      "source": []
    },
    {
      "cell_type": "markdown",
      "source": [
        "# Redes Neurais Convolucionais"
      ],
      "metadata": {
        "id": "sS_idirHPTXP"
      }
    },
    {
      "cell_type": "markdown",
      "source": [
        "## Idéias Iniciais"
      ],
      "metadata": {
        "id": "S2CeER9PPcUq"
      }
    },
    {
      "cell_type": "markdown",
      "source": [
        "## LeNet-5 (1998)"
      ],
      "metadata": {
        "id": "n2jtE7MMPXsZ"
      }
    },
    {
      "cell_type": "markdown",
      "source": [
        "## AlexNet (2012)"
      ],
      "metadata": {
        "id": "9_x1TawrPZEz"
      }
    },
    {
      "cell_type": "markdown",
      "source": [
        "## VGG (2014)"
      ],
      "metadata": {
        "id": "MJIt76j4PgGw"
      }
    },
    {
      "cell_type": "markdown",
      "source": [
        "## Inception/GoogleNet (2014)"
      ],
      "metadata": {
        "id": "EqXgVi_UPiF9"
      }
    },
    {
      "cell_type": "markdown",
      "source": [
        "## ResNet (2015)"
      ],
      "metadata": {
        "id": "SOQ6o4TfPlsh"
      }
    },
    {
      "cell_type": "markdown",
      "source": [
        "## Outras CNNs\n",
        "\n",
        "### MobileNet\n",
        "\n",
        "### EficientNet\n",
        "\n",
        "### DenseNet\n",
        "\n",
        "### ConvNext"
      ],
      "metadata": {
        "id": "9-vnNhXdPoTE"
      }
    },
    {
      "cell_type": "markdown",
      "source": [
        "# Redes Neurais Recorrentes"
      ],
      "metadata": {
        "id": "QA3IsL6YQNUY"
      }
    },
    {
      "cell_type": "markdown",
      "source": [
        "## RNNs Clássicas (1980s)"
      ],
      "metadata": {
        "id": "PdvBrbOOQQe0"
      }
    },
    {
      "cell_type": "markdown",
      "source": [
        "## LSTM (1997)"
      ],
      "metadata": {
        "id": "yu8g4hKfQV2C"
      }
    },
    {
      "cell_type": "markdown",
      "source": [
        "## GRU (2014)"
      ],
      "metadata": {
        "id": "_LkQgCM1Qa0Y"
      }
    },
    {
      "cell_type": "markdown",
      "source": [
        "# Transformers"
      ],
      "metadata": {
        "id": "h4gH4FSHQhtZ"
      }
    },
    {
      "cell_type": "markdown",
      "source": [
        "## Mecanismos de Atenção (2014)"
      ],
      "metadata": {
        "id": "Y3bdrIbEQjcR"
      }
    },
    {
      "cell_type": "markdown",
      "source": [
        "## Transformer (2017)"
      ],
      "metadata": {
        "id": "OlReclPXQnbI"
      }
    },
    {
      "cell_type": "markdown",
      "source": [
        "## Avanços em Processamento de Linguagem Natural\n",
        "\n",
        "### BERT (2018)\n",
        "\n",
        "### GPT (2018-2023)"
      ],
      "metadata": {
        "id": "k5Alyw8qQsy7"
      }
    },
    {
      "cell_type": "markdown",
      "source": [
        "## Avanços em Visão Computacional\n",
        "\n",
        "### Vision Transformer (2020)\n",
        "\n",
        "### Swin Transformer (2021)"
      ],
      "metadata": {
        "id": "WwubgE61Qv-I"
      }
    },
    {
      "cell_type": "markdown",
      "source": [
        "## Avanços em Escalabilidade\n",
        "\n",
        "### Perceiver e Perceiver IO (2021)\n",
        "\n",
        "## Flash Attention\n",
        "\n",
        "### Linformer\n",
        "\n",
        "### Reformer\n",
        "\n",
        "### Big Bird"
      ],
      "metadata": {
        "id": "LlRXpy1pRhO7"
      }
    },
    {
      "cell_type": "markdown",
      "source": [
        "# Considerações Finais\n",
        "\n",
        "## Diferenças nas Arquiteturas\n",
        "\n",
        "### RNN vs Transformer\n",
        "\n",
        "### CNN vs ViT\n",
        "\n",
        "### MLP vs Transformer\n",
        "\n",
        "## Próxima Aula"
      ],
      "metadata": {
        "id": "h7m_6tpES5xC"
      }
    },
    {
      "cell_type": "markdown",
      "source": [
        "# Exercícios"
      ],
      "metadata": {
        "id": "vCJSzsBOTNIw"
      }
    },
    {
      "cell_type": "markdown",
      "source": [
        "# Referências"
      ],
      "metadata": {
        "id": "fpwSyDT9TPKA"
      }
    }
  ]
}