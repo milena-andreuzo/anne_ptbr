{
  "nbformat": 4,
  "nbformat_minor": 0,
  "metadata": {
    "colab": {
      "provenance": [],
      "authorship_tag": "ABX9TyNchG7BozJfvXaWqJZj3727",
      "include_colab_link": true
    },
    "kernelspec": {
      "name": "python3",
      "display_name": "Python 3"
    },
    "language_info": {
      "name": "python"
    }
  },
  "cells": [
    {
      "cell_type": "markdown",
      "metadata": {
        "id": "view-in-github",
        "colab_type": "text"
      },
      "source": [
        "<a href=\"https://colab.research.google.com/github/vhrique/anne_ptbr/blob/main/04_Arquiteturas_Especializadas.ipynb\" target=\"_parent\"><img src=\"https://colab.research.google.com/assets/colab-badge.svg\" alt=\"Open In Colab\"/></a>"
      ]
    },
    {
      "cell_type": "code",
      "source": [
        "import torch\n",
        "import torch.nn as nn\n",
        "import torch.optim as optim\n",
        "\n",
        "import matplotlib.pyplot as plt\n",
        "\n",
        "from torchvision import datasets, transforms\n",
        "from torch.utils.data import DataLoader"
      ],
      "metadata": {
        "id": "8PE0x_z83EVN"
      },
      "execution_count": null,
      "outputs": []
    },
    {
      "cell_type": "markdown",
      "source": [
        "# Introdução à Arquiteturas Especializadas\n",
        "\n",
        "As arquiteturas clássicas de redes neurais, como as redes densas (MLPs), convolucionais (CNNs) e recorrentes (RNNs), são amplamente usadas para tarefas de classificação e regressão, aproveitando sua estrutura para extrair padrões dos dados e realizar previsões. Essas redes, em geral, aprendem a mapear entradas para saídas rotuladas e são versáteis em diferentes domínios.\n",
        "\n",
        "No entanto, há arquiteturas especializadas que atendem a demandas mais específicas. Autoencoders, por exemplo, são redes projetadas para compressão de dados e extração de características latentes, enquanto GANs (Redes Generativas Adversárias) são usadas para a geração de dados sintéticos realistas. Em tarefas de visão computacional, arquiteturas voltadas para detecção de objetos e segmentação aprendem a identificar e localizar múltiplas classes em uma imagem, demonstrando a evolução do campo para resolver problemas além da classificação tradicional.\n",
        "\n",
        "Nesta aula, falaremos mais sobre estes tipos de arquiteturas e como isto muda em relação à representação, avaliação e otimização de modelos."
      ],
      "metadata": {
        "id": "-9Op2dJky8NF"
      }
    },
    {
      "cell_type": "markdown",
      "source": [
        "# Arquiteturas Fundamentais para Reconstrução e Geração de Dados\n",
        "\n"
      ],
      "metadata": {
        "id": "mf4q3gPwUZLd"
      }
    },
    {
      "cell_type": "markdown",
      "source": [
        "## Autoencoders\n",
        "\n",
        "Os autoencoders são um tipo de rede neural projetada para aprender uma representação compacta dos dados, também conhecida como codificação latente, de forma não supervisionada. Uma das suas primeiras idéias surgiu na década de 1980 por Geoffrey Hinton. Eles são compostos por duas partes principais: o codificador, que reduz a dimensionalidade dos dados de entrada ao projetá-los em um espaço latente de menor dimensão, e o decodificador, que tenta reconstruir os dados originais a partir dessa representação comprimida. A principal aplicação dos autoencoders está em tarefas como redução de dimensionalidade, remoção de ruído e geração de novas amostras.\n",
        "\n",
        "<center><img src=\"https://github.com/vhrique/anne_ptbr/blob/main/figures/ae.jpg?raw=true\" width=500></center>\n",
        "\n",
        "A avaliação de autoencoders geralmente é feita comparando a similaridade entre os dados de entrada e sua reconstrução gerada pelo decodificador, utilizando métricas como erro quadrático médio (MSE) ou entropia cruzada, dependendo do tipo de dados. O objetivo é minimizar essa diferença, o que indica que o autoencoder aprendeu uma boa representação latente. A otimização dos autoencoders é realizada através de técnicas padrão de redes neurais, como a _backpropagation_ e o uso de algoritmos de otimização, como o gradiente descendente e suas variantes."
      ],
      "metadata": {
        "id": "NYeRD6sMfvAz"
      }
    },
    {
      "cell_type": "code",
      "source": [
        "class Autoencoder(nn.Module):\n",
        "    def __init__(self, input_size):\n",
        "        super(Autoencoder, self).__init__()\n",
        "        self.encoder = nn.Sequential(\n",
        "            nn.Linear(input_size, 256),\n",
        "            nn.ReLU(),\n",
        "            nn.Linear(256, 64),\n",
        "            nn.ReLU()\n",
        "        )\n",
        "        self.decoder = nn.Sequential(\n",
        "            nn.Linear(64, 256),\n",
        "            nn.ReLU(),\n",
        "            nn.Linear(256, input_size)\n",
        "        )\n",
        "\n",
        "    def forward(self, x):\n",
        "        x = self.encoder(x)\n",
        "        x = self.decoder(x)\n",
        "        return x"
      ],
      "metadata": {
        "id": "UaCEa8-Z3GQC"
      },
      "execution_count": null,
      "outputs": []
    },
    {
      "cell_type": "markdown",
      "source": [
        "## Variational Autoencoders\n",
        "\n",
        "Os autoencoders variacionais (VAEs) são uma extensão dos autoencoders tradicionais que introduzem uma abordagem probabilística para a geração de dados (Kingma e Welling, 2013). Em vez de codificar os dados diretamente em um espaço latente fixo, os VAEs aprendem distribuições probabilísticas que representam as características latentes dos dados, com a rede aprendendo os parâmetros de média e variância dessas distribuições. Essa estrutura permite que o modelo gere novas amostras ao amostrar dessas distribuições latentes, o que torna os VAEs ideais para tarefas como síntese de dados, geração de imagens e aprendizado de características latentes com maior capacidade de generalização.\n",
        "\n",
        "<center><img src=\"https://github.com/vhrique/anne_ptbr/blob/main/figures/vae.jpg?raw=true\" width=600></center>\n",
        "\n",
        "Em termos de avaliação e otimização, além da reconstrução dos dados, o VAE incorpora na função de perda um termo de regularização chamado divergência Kullback-Leibler (KL), que mede o quão próxima a distribuição latente aprendida está de uma distribuição normal padrão. A otimização, então, busca equilibrar dois objetivos: minimizar a perda de reconstrução, para garantir que a entrada seja bem reconstruída, e minimizar a divergência KL, para manter a estrutura latente bem regularizada. Esse processo permite que o VAE não apenas reconstrua os dados, mas também gere novas amostras de maneira mais controlada e com maior capacidade de generalização."
      ],
      "metadata": {
        "id": "EjjllYLMzpw9"
      }
    },
    {
      "cell_type": "code",
      "source": [
        "class VAE(nn.Module):\n",
        "    def __init__(self, input_size):\n",
        "        super(VAE, self).__init__()\n",
        "        self.encoder = nn.Sequential(\n",
        "            nn.Linear(input_size, 400),\n",
        "            nn.ReLU()\n",
        "        )\n",
        "        self.mu_layer = nn.Linear(400, 20)\n",
        "        self.logvar_layer = nn.Linear(400, 20)  # Log variância\n",
        "\n",
        "        # Decoder\n",
        "        self.decoder = nn.Sequential(\n",
        "            nn.Linear(20, 400),\n",
        "            nn.ReLU(),\n",
        "            nn.Linear(400, input_size),\n",
        "        )\n",
        "\n",
        "    def reparameterize(self, mu, logvar):\n",
        "        std = torch.exp(0.5 * logvar)\n",
        "        eps = torch.randn_like(std)\n",
        "        return mu + eps * std\n",
        "\n",
        "    def forward(self, x):\n",
        "        encoded = self.encoder(x)\n",
        "        mu = self.mu_layer(encoded)\n",
        "        logvar = self.logvar_layer(encoded)\n",
        "        z = self.reparameterize(mu, logvar)\n",
        "        decoded = self.decoder(z)\n",
        "        return decoded, mu, logvar\n",
        "\n",
        "def loss_function(recon_x, x, mu, logvar):\n",
        "    BCE = nn.functional.binary_cross_entropy(recon_x, x, reduction='sum')\n",
        "    KLD = -0.5 * torch.sum(1 + logvar - mu.pow(2) - logvar.exp()) # KL Diverg.\n",
        "    return BCE + KLD"
      ],
      "metadata": {
        "id": "Mo0JnW_P3g16"
      },
      "execution_count": null,
      "outputs": []
    },
    {
      "cell_type": "markdown",
      "source": [
        "## Generative Adversarial Networks\n",
        "\n",
        "As Generative Adversarial Networks (GANs), introduzidas por Ian Goodfellow em 2014, são um tipo de rede neural composta por dois modelos que competem entre si: um gerador, que cria novos dados a partir de uma entrada aleatória, e um discriminador, que tenta distinguir entre os dados reais e os gerados. O gerador busca melhorar suas amostras de forma a \"enganar\" o discriminador, enquanto o discriminador tenta identificar corretamente os dados gerados. Esse processo adversarial resulta em um gerador capaz de produzir dados realistas, como imagens, vídeos, ou textos, que são quase indistinguíveis dos dados reais. GANs têm aplicações amplas em áreas como geração de imagens, super-resolução, e síntese de dados.\n",
        "\n",
        "<center><img src=\"https://github.com/vhrique/anne_ptbr/blob/main/figures/gan.jpg?raw=true\" width=600></center>"
      ],
      "metadata": {
        "id": "UQ-E7cN7f8bA"
      }
    },
    {
      "cell_type": "code",
      "source": [
        "class Generator(nn.Module):\n",
        "    def __init__(self, latent_dim, output_size):\n",
        "        super(Generator, self).__init__()\n",
        "        self.model = nn.Sequential(\n",
        "            nn.Linear(latent_dim, 256),\n",
        "            nn.ReLU(),\n",
        "            nn.Linear(256, 512),\n",
        "            nn.ReLU(),\n",
        "            nn.Linear(512, 1024),\n",
        "            nn.ReLU(),\n",
        "            nn.Linear(1024, output_size),\n",
        "            nn.Tanh()  # Para normalizar a saída entre [-1, 1]\n",
        "        )\n",
        "\n",
        "    def forward(self, z):\n",
        "        img = self.model(z)\n",
        "        return img"
      ],
      "metadata": {
        "id": "CqKxYCwYy2wi"
      },
      "execution_count": null,
      "outputs": []
    },
    {
      "cell_type": "code",
      "source": [
        "class Discriminator(nn.Module):\n",
        "    def __init__(self, input_size):\n",
        "        super(Discriminator, self).__init__()\n",
        "        self.model = nn.Sequential(\n",
        "            nn.Linear(input_size, 1024),\n",
        "            nn.LeakyReLU(0.2),\n",
        "            nn.Linear(1024, 512),\n",
        "            nn.LeakyReLU(0.2),\n",
        "            nn.Linear(512, 256),\n",
        "            nn.LeakyReLU(0.2),\n",
        "            nn.Linear(256, 1),\n",
        "            nn.Sigmoid()\n",
        "        )\n",
        "\n",
        "    def forward(self, x):\n",
        "        validity = self.model(x)\n",
        "        return validity"
      ],
      "metadata": {
        "id": "bVDsY7luy8GZ"
      },
      "execution_count": null,
      "outputs": []
    },
    {
      "cell_type": "markdown",
      "source": [
        "## Exemplo com MNIST"
      ],
      "metadata": {
        "id": "wwKVuxMqzVyX"
      }
    },
    {
      "cell_type": "code",
      "source": [
        "batch_size = 64\n",
        "latent_dim = 20\n",
        "lr = 0.0002\n",
        "epochs = 5"
      ],
      "metadata": {
        "id": "Or3g-Ne_zYEK"
      },
      "execution_count": null,
      "outputs": []
    },
    {
      "cell_type": "code",
      "source": [
        "transform = transforms.Compose([transforms.ToTensor(), transforms.Normalize((0.5,), (0.5,))])\n",
        "\n",
        "dataset = datasets.MNIST(root='./data', train=True, download=True, transform=transform)\n",
        "dataloader = DataLoader(dataset, batch_size=batch_size, shuffle=True)\n",
        "\n",
        "plt.imshow(dataset[0][0][0], cmap='gray')\n",
        "plt.show()"
      ],
      "metadata": {
        "colab": {
          "base_uri": "https://localhost:8080/",
          "height": 430
        },
        "id": "9YuVPkRVzui6",
        "outputId": "7e023bce-3302-46e9-c178-19ab0292913f"
      },
      "execution_count": null,
      "outputs": [
        {
          "output_type": "display_data",
          "data": {
            "text/plain": [
              "<Figure size 640x480 with 1 Axes>"
            ],
            "image/png": "[encoded data removed]"
          },
          "metadata": {}
        }
      ]
    },
    {
      "cell_type": "code",
      "source": [
        "ae = Autoencoder(input_size=28*28)\n",
        "optimizer = optim.Adam(ae.parameters(), lr=0.001)\n",
        "criterion = nn.MSELoss()\n",
        "\n",
        "for epoch in range(epochs):\n",
        "    for imgs, _ in dataloader:\n",
        "        imgs = imgs.view(imgs.size(0), -1)\n",
        "        recon = ae(imgs)\n",
        "        loss = criterion(recon, imgs)\n",
        "\n",
        "        optimizer.zero_grad()\n",
        "        loss.backward()\n",
        "        optimizer.step()\n",
        "\n",
        "    print(f'Epoch [{epoch+1}/{epochs}], Loss: {loss.item():.4f}')"
      ],
      "metadata": {
        "id": "FK1lUUjS3Y-F"
      },
      "execution_count": null,
      "outputs": []
    },
    {
      "cell_type": "code",
      "source": [
        "fig, axs = plt.subplots(1,2)\n",
        "output = ae(dataset[0][0].flatten())\n",
        "axs[0].imshow(dataset[0][0][0].numpy(), cmap='gray')\n",
        "axs[1].imshow(output.view(28, 28).detach().numpy(), cmap='gray')\n",
        "plt.show()"
      ],
      "metadata": {
        "colab": {
          "base_uri": "https://localhost:8080/",
          "height": 287
        },
        "id": "0aD2KGvB2PDq",
        "outputId": "8e622a21-edb5-4e1d-c8a0-db18edd2cc07"
      },
      "execution_count": null,
      "outputs": [
        {
          "output_type": "display_data",
          "data": {
            "text/plain": [
              "<Figure size 640x480 with 2 Axes>"
            ],
            "image/png": "[encoded data removed]"
          },
          "metadata": {}
        }
      ]
    },
    {
      "cell_type": "code",
      "source": [
        "output = ae.decoder(torch.randn(1,64))[0]\n",
        "plt.imshow(output.view(28, 28).detach().numpy(), cmap='gray')\n",
        "plt.show()"
      ],
      "metadata": {
        "colab": {
          "base_uri": "https://localhost:8080/",
          "height": 430
        },
        "id": "gdu-U-SP2Bp0",
        "outputId": "e99eab99-d455-4804-9e8d-a8b12015af73"
      },
      "execution_count": null,
      "outputs": [
        {
          "output_type": "display_data",
          "data": {
            "text/plain": [
              "<Figure size 640x480 with 1 Axes>"
            ],
            "image/png": "[encoded data removed]"
          },
          "metadata": {}
        }
      ]
    },
    {
      "cell_type": "code",
      "source": [
        "vae = VAE(input_size=28*28)\n",
        "optimizer = optim.Adam(vae.parameters(), lr=0.001)\n",
        "\n",
        "def vae_loss(recon_x, x, mu, logvar):\n",
        "    recon_loss = nn.functional.mse_loss(recon_x, x, reduction='sum')\n",
        "    kld = -0.5 * torch.sum(1 + logvar - mu.pow(2) - logvar.exp())\n",
        "    return recon_loss + kld\n",
        "\n",
        "for epoch in range(epochs):\n",
        "    for imgs, _ in dataloader:\n",
        "        imgs = imgs.view(imgs.size(0), -1)  # Flatten the image\n",
        "        recon, mu, logvar = vae(imgs)\n",
        "        loss = vae_loss(recon, imgs, mu, logvar)\n",
        "\n",
        "        optimizer.zero_grad()\n",
        "        loss.backward()\n",
        "        optimizer.step()\n",
        "\n",
        "    print(f'Epoch [{epoch+1}/{epochs}], Loss: {loss.item():.4f}')"
      ],
      "metadata": {
        "id": "D-PklUzb39X8",
        "colab": {
          "base_uri": "https://localhost:8080/"
        },
        "outputId": "adc7c14b-e62c-4670-cab9-8d698b512948"
      },
      "execution_count": null,
      "outputs": [
        {
          "output_type": "stream",
          "name": "stdout",
          "text": [
            "Epoch [1/5], Loss: 2853.9924\n",
            "Epoch [2/5], Loss: 2862.9500\n",
            "Epoch [3/5], Loss: 2693.0376\n",
            "Epoch [4/5], Loss: 2667.8523\n",
            "Epoch [5/5], Loss: 2589.0564\n"
          ]
        }
      ]
    },
    {
      "cell_type": "code",
      "source": [
        "fig, axs = plt.subplots(1,2)\n",
        "output, _, _ = vae(dataset[0][0].flatten())\n",
        "axs[0].imshow(dataset[0][0][0].numpy(), cmap='gray')\n",
        "axs[1].imshow(output.view(28, 28).detach().numpy(), cmap='gray')\n",
        "plt.show()"
      ],
      "metadata": {
        "colab": {
          "base_uri": "https://localhost:8080/",
          "height": 287
        },
        "id": "byhMYcRK3umb",
        "outputId": "0fa9973d-acb0-40fc-c203-eca396c0d84c"
      },
      "execution_count": null,
      "outputs": [
        {
          "output_type": "display_data",
          "data": {
            "text/plain": [
              "<Figure size 640x480 with 2 Axes>"
            ],
            "image/png": "[encoded data removed]"
          },
          "metadata": {}
        }
      ]
    },
    {
      "cell_type": "code",
      "source": [
        "output = vae.decoder(torch.randn(1,20))[0]\n",
        "plt.imshow(output.view(28, 28).detach().numpy(), cmap='gray')\n",
        "plt.show()"
      ],
      "metadata": {
        "colab": {
          "base_uri": "https://localhost:8080/",
          "height": 430
        },
        "id": "-o4tlfR43yJ5",
        "outputId": "87c86212-3b8d-489d-f5b1-87796d070a60"
      },
      "execution_count": null,
      "outputs": [
        {
          "output_type": "display_data",
          "data": {
            "text/plain": [
              "<Figure size 640x480 with 1 Axes>"
            ],
            "image/png": "[encoded data removed]"
          },
          "metadata": {}
        }
      ]
    },
    {
      "cell_type": "code",
      "source": [
        "generator = Generator(latent_dim, 28*28)\n",
        "discriminator = Discriminator(28*28)\n",
        "adversarial_loss = nn.BCELoss()\n",
        "\n",
        "optimizer_G = optim.Adam(generator.parameters(), lr=lr)\n",
        "optimizer_D = optim.Adam(discriminator.parameters(), lr=lr)\n",
        "\n",
        "epochs = 10\n",
        "for epoch in range(epochs):\n",
        "    print(f'Epoch [{epoch+1}/{epochs}]')\n",
        "    for i, (imgs, _) in enumerate(dataloader):\n",
        "        # Ground truths\n",
        "        real_imgs = imgs\n",
        "        real_labels = torch.ones(imgs.size(0), 1)\n",
        "        fake_labels = torch.zeros(imgs.size(0), 1)\n",
        "\n",
        "        # ---------------------\n",
        "        # Train Discriminator\n",
        "        # ---------------------\n",
        "        optimizer_D.zero_grad()\n",
        "\n",
        "        # Real images\n",
        "        real_loss = adversarial_loss(discriminator(real_imgs.view(real_imgs.size(0), -1)), real_labels)\n",
        "\n",
        "        # Fake images\n",
        "        z = torch.randn(imgs.size(0), latent_dim)\n",
        "        fake_imgs = generator(z)\n",
        "        fake_loss = adversarial_loss(discriminator(fake_imgs.detach()), fake_labels)\n",
        "\n",
        "        d_loss = real_loss + fake_loss\n",
        "        d_loss.backward()\n",
        "        optimizer_D.step()\n",
        "\n",
        "        # -----------------\n",
        "        # Train Generator\n",
        "        # -----------------\n",
        "        optimizer_G.zero_grad()\n",
        "\n",
        "        # Train the generator to \"fool\" the discriminator\n",
        "        g_loss = adversarial_loss(discriminator(fake_imgs), real_labels)\n",
        "        g_loss.backward()\n",
        "        optimizer_G.step()\n",
        "\n",
        "        # Print the progress\n",
        "        if (i % 400) == 0:\n",
        "            print(f'\\tBatch {i}/{len(dataloader)} Loss D: {d_loss.item()}, Loss G: {g_loss.item()}')"
      ],
      "metadata": {
        "colab": {
          "base_uri": "https://localhost:8080/"
        },
        "id": "i9cpZfCC3_Xu",
        "outputId": "b0c7cfb6-ec26-45b0-b1d7-a36536275498"
      },
      "execution_count": null,
      "outputs": [
        {
          "output_type": "stream",
          "name": "stdout",
          "text": [
            "Epoch [1/10]\n",
            "\tBatch 0/938 Loss D: 1.399876594543457, Loss G: 0.672473132610321\n",
            "\tBatch 400/938 Loss D: 2.385497570037842, Loss G: 6.686275482177734\n",
            "\tBatch 800/938 Loss D: 0.006545062176883221, Loss G: 7.107415676116943\n",
            "Epoch [2/10]\n",
            "\tBatch 0/938 Loss D: 0.0064580682665109634, Loss G: 6.3921685218811035\n",
            "\tBatch 400/938 Loss D: 0.002568259369581938, Loss G: 10.376607894897461\n",
            "\tBatch 800/938 Loss D: 0.1048927754163742, Loss G: 24.845191955566406\n",
            "Epoch [3/10]\n",
            "\tBatch 0/938 Loss D: 0.23972977697849274, Loss G: 25.5443115234375\n",
            "\tBatch 400/938 Loss D: 0.19576714932918549, Loss G: 7.387028217315674\n",
            "\tBatch 800/938 Loss D: 0.2517167925834656, Loss G: 2.99017333984375\n",
            "Epoch [4/10]\n",
            "\tBatch 0/938 Loss D: 0.015246842056512833, Loss G: 8.494224548339844\n",
            "\tBatch 400/938 Loss D: 0.03429083898663521, Loss G: 5.968017578125\n",
            "\tBatch 800/938 Loss D: 0.8867369890213013, Loss G: 5.245614051818848\n",
            "Epoch [5/10]\n",
            "\tBatch 0/938 Loss D: 0.12478847801685333, Loss G: 8.270752906799316\n",
            "\tBatch 400/938 Loss D: 0.09666469693183899, Loss G: 6.997365951538086\n",
            "\tBatch 800/938 Loss D: 6.347798625938594e-05, Loss G: 9.983631134033203\n",
            "Epoch [6/10]\n",
            "\tBatch 0/938 Loss D: 0.00018531165551394224, Loss G: 14.390861511230469\n",
            "\tBatch 400/938 Loss D: 0.13564707338809967, Loss G: 3.8280186653137207\n",
            "\tBatch 800/938 Loss D: 0.07586043328046799, Loss G: 7.354170322418213\n",
            "Epoch [7/10]\n",
            "\tBatch 0/938 Loss D: 0.141572043299675, Loss G: 4.8861894607543945\n",
            "\tBatch 400/938 Loss D: 0.1513129472732544, Loss G: 4.500294208526611\n",
            "\tBatch 800/938 Loss D: 0.1175626739859581, Loss G: 6.400891304016113\n",
            "Epoch [8/10]\n",
            "\tBatch 0/938 Loss D: 0.19659051299095154, Loss G: 9.197423934936523\n",
            "\tBatch 400/938 Loss D: 0.1549500674009323, Loss G: 10.594407081604004\n",
            "\tBatch 800/938 Loss D: 0.12524132430553436, Loss G: 4.330740928649902\n",
            "Epoch [9/10]\n",
            "\tBatch 0/938 Loss D: 0.07055841386318207, Loss G: 10.669508934020996\n",
            "\tBatch 400/938 Loss D: 0.23784661293029785, Loss G: 4.68706750869751\n",
            "\tBatch 800/938 Loss D: 0.6608108878135681, Loss G: 6.5086350440979\n",
            "Epoch [10/10]\n",
            "\tBatch 0/938 Loss D: 0.18439137935638428, Loss G: 5.48886775970459\n",
            "\tBatch 400/938 Loss D: 0.16902434825897217, Loss G: 5.503327369689941\n",
            "\tBatch 800/938 Loss D: 0.1438324749469757, Loss G: 5.519637584686279\n"
          ]
        }
      ]
    },
    {
      "cell_type": "code",
      "source": [
        "output = generator(torch.randn(1,latent_dim))[0]\n",
        "plt.imshow(output.view(28, 28).detach().numpy(), cmap='gray')\n",
        "plt.show()"
      ],
      "metadata": {
        "colab": {
          "base_uri": "https://localhost:8080/",
          "height": 430
        },
        "id": "eRditBR86WsJ",
        "outputId": "91cfb689-526f-446c-d159-35581fa72960"
      },
      "execution_count": null,
      "outputs": [
        {
          "output_type": "display_data",
          "data": {
            "text/plain": [
              "<Figure size 640x480 with 1 Axes>"
            ],
            "image/png": "[encoded data removed]"
          },
          "metadata": {}
        }
      ]
    },
    {
      "cell_type": "markdown",
      "source": [
        "# Arquiteturas Especializadas em Visão Computacional\n",
        "\n",
        "Em visão computacional, tarefas distintas como detecção de objetos, segmentação e geração de imagens exigem combinações específicas de camadas e funções de perda nas arquiteturas de rede. Por exemplo, a detecção de objetos pode combinar camadas convolucionais para extração de características com camadas de regressão para prever posições, utilizando funções de perda que equilibram precisão de classificação e localização. Na segmentação, são empregadas camadas que mantêm a resolução espacial para identificar pixels específicos, com funções de perda que medem a correspondência entre as previsões e as máscaras reais. Para geração de imagens, as arquiteturas incluem camadas que modelam distribuições de dados complexas, usando funções de perda que avaliam a qualidade e realismo das imagens produzidas. Dessa forma, a escolha adequada de camadas e funções de perda é crucial para atender aos requisitos de cada tarefa específica."
      ],
      "metadata": {
        "id": "e0v68ocrabjX"
      }
    },
    {
      "cell_type": "markdown",
      "source": [
        "## Detecção de Objetos\n",
        "\n",
        "As arquiteturas para detecção de objetos em visão computacional combinam diversos componentes para identificar e localizar objetos em imagens. Tipicamente, utilizam camadas convolucionais para extrair características relevantes, seguidas por mecanismos que propõem regiões de interesse onde os objetos possivelmente estão. Essas regiões são então refinadas e classificadas através de camadas específicas que prevêem tanto a categoria do objeto quanto a posição das caixas delimitadoras. Funções de perda apropriadas são aplicadas para otimizar simultaneamente a precisão da classificação e a exatidão da localização. A integração eficaz desses componentes é crucial para o desempenho de modelos de detecção de objetos.\n",
        "\n",
        "<center><img src=\"https://github.com/vhrique/anne_ptbr/blob/main/figures/obj_detection.jpg?raw=true\"></center>"
      ],
      "metadata": {
        "id": "hgTI6j4mao_w"
      }
    },
    {
      "cell_type": "markdown",
      "source": [
        "### R-CNN (2014)\n",
        "\n",
        "R-CNN (Regions with Convolutional Neural Networks) é uma arquitetura pioneira para detecção de objetos em visão computacional (Girshick et al, 2014). Ela funciona gerando propostas de regiões que possivelmente contêm objetos, usando algoritmos como busca seletiva. Cada região proposta é redimensionada e passada por uma rede neural convolucional para extração de características. Essas características são então alimentadas em um classificador, como uma SVM, para determinar a classe do objeto na região. Embora o R-CNN tenha melhorado significativamente a precisão na detecção de objetos, seu processamento é lento, pois cada região proposta precisa ser processada individualmente pela rede neural.\n",
        "\n",
        "<center><img src=\"https://github.com/vhrique/anne_ptbr/blob/main/figures/rcnn.png?raw=true\" width=700></center>\n",
        "\n",
        "A função de perda (loss function) do R-CNN combina duas partes principais: uma perda de classificação e uma perda de regressão para as caixas delimitadoras. A perda de classificação é geralmente uma entropia cruzada que avalia a precisão da previsão da classe do objeto em cada região proposta. Já a perda de regressão avalia a precisão na predição das coordenadas da caixa delimitadora, geralmente usando um erro quadrático ou L1/L2 loss. Essas duas perdas são combinadas para ajustar a rede, garantindo que ela não apenas classifique corretamente os objetos, mas também localize-os de maneira precisa."
      ],
      "metadata": {
        "id": "WxR7386yawlC"
      }
    },
    {
      "cell_type": "markdown",
      "source": [
        "### Fast R-CNN (2015)\n",
        "\n",
        "Fast R-CNN é uma melhoria significativa em relação ao R-CNN, projetada para acelerar o processo de detecção de objetos (Girshick, 2015). Em vez de extrair e classificar cada região proposta separadamente, o Fast R-CNN processa a imagem completa através de uma rede convolucional, gerando um mapa de características. As regiões de interesse (ROIs), geradas pelo Selective Search ou outro método, são então projetadas nesse mapa de características. Em vez de redimensionar as regiões, como no R-CNN original, o Fast R-CNN usa uma camada chamada ROI Pooling para extrair uma representação de tamanho fixo para cada ROI. Essas representações são passadas por camadas totalmente conectadas para classificação e regressão de caixas delimitadoras, tornando o processo mais rápido e eficiente.\n",
        "\n",
        "<center><img src=\"https://github.com/vhrique/anne_ptbr/blob/main/figures/fast_rcnn.png?raw=true\" width=700></center>\n",
        "\n",
        "A função de perda do Fast R-CNN também combina duas partes: uma perda de classificação e uma perda de regressão para as caixas delimitadoras, semelhante ao R-CNN. A perda de classificação usa entropia cruzada para avaliar a precisão da previsão da classe dos objetos em cada região de interesse (ROI). A perda de regressão, por sua vez, utiliza uma smooth L1 loss para refinar as coordenadas das caixas delimitadoras, tornando o treinamento mais estável ao lidar com grandes variações de valores. Essas perdas são otimizadas conjuntamente, permitindo que o Fast R-CNN seja eficiente tanto em classificar objetos quanto em prever suas localizações com precisão."
      ],
      "metadata": {
        "id": "pDa7Azfraz7D"
      }
    },
    {
      "cell_type": "markdown",
      "source": [
        "### Faster R-CNN (2015)\n",
        "\n",
        "Faster R-CNN é uma evolução do Fast R-CNN, introduzida por Ren et al (2015), que elimina a dependência de métodos heurísticos como o Selective Search para gerar regiões propostas. Em vez disso, ele introduz a Region Proposal Network (RPN), uma rede neural que é treinada para gerar as regiões de interesse diretamente a partir do mapa de características da imagem. A RPN analisa janelas deslizantes sobre o mapa de características e prevê a probabilidade de cada janela conter um objeto, além de ajustar as caixas delimitadoras. Essas regiões propostas pela RPN são então refinadas e classificadas pela segunda parte do modelo, similar ao Fast R-CNN. Ao tornar a proposta de regiões uma parte treinável da rede, o Faster R-CNN é muito mais rápido e preciso, unificando a detecção de objetos em uma única arquitetura eficiente.\n",
        "\n",
        "<center><img src=\"https://github.com/vhrique/anne_ptbr/blob/main/figures/faster_rcnn.png?raw=true\" width=400></center>\n",
        "\n",
        "A função de perda da Faster R-CNN combina duas partes: a perda da Region Proposal Network (RPN) e a da rede de detecção. A perda da RPN inclui uma entropia cruzada binária para classificar se as anchors contêm objetos, definido a partir da intersecção sobre a união (IoU), e uma smooth L1 loss para ajustar as caixas propostas. Na rede de detecção, utiliza-se uma entropia cruzada para classificar os objetos nas regiões de interesse (ROIs) e uma smooth L1 loss adicional para refinar as coordenadas das caixas delimitadoras. Essas perdas são combinadas para otimizar simultaneamente a proposta de regiões e a precisão na detecção de objetos."
      ],
      "metadata": {
        "id": "0xF4d_0na_f8"
      }
    },
    {
      "cell_type": "markdown",
      "source": [
        "### YOLO (2015 - ...)\n",
        "\n",
        "YOLO (You Only Look Once) é uma abordagem inovadora para detecção de objetos que se diferencia por tratar a tarefa como um problema de regressão de ponta a ponta (Redmon et al, 2015). Em vez de gerar regiões de interesse e classificá-las separadamente, como nas arquiteturas baseadas em R-CNN, o YOLO divide a imagem em uma grade e, para cada célula, prevê diretamente as classes de objetos e as caixas delimitadoras. Isso permite que toda a imagem seja processada em uma única passagem pela rede, tornando o YOLO extremamente rápido em comparação com métodos tradicionais. Embora tenha uma troca inicial entre velocidade e precisão, versões mais recentes de YOLO têm melhorado significativamente o desempenho em ambos os aspectos, sendo amplamente utilizado em aplicações em tempo real.\n",
        "\n",
        "<center><img src=\"https://github.com/vhrique/anne_ptbr/blob/main/figures/yolo.png?raw=true\" width=500></center>\n",
        "\n",
        "A função de perda do YOLO é composta por três partes principais: a perda de localização, que utiliza mean squared error (MSE) para ajustar as coordenadas das caixas delimitadoras preditas em relação às reais; a perda de confiança, que também usa MSE para avaliar a precisão na previsão da presença de objetos nas células da grade; e a perda de classificação, que aplica entropia cruzada para penalizar previsões incorretas das classes dos objetos. Essas perdas são ponderadas e combinadas para otimizar simultaneamente a localização, a presença e a classificação dos objetos detectados.\n",
        "\n",
        "#### Evoluções\n",
        "\n",
        "As evoluções do YOLO (You Only Look Once) visam aprimorar tanto a precisão quanto a eficiência da detecção de objetos. Desde o YOLO original, várias versões têm sido desenvolvidas. O YOLOv2 introduziu melhorias como a utilização de ancoras (anchor boxes) para lidar melhor com a detecção de objetos de diferentes escalas. O YOLOv3 (Redmon, 2018) adicionou uma arquitetura de rede mais profunda com detecção em múltiplas escalas, permitindo melhor precisão em objetos pequenos. O YOLOv4 otimizou ainda mais a velocidade e a precisão, incorporando avanços como convoluções otimizadas e estratégias de regularização. Mais recentemente, o YOLOv5 e YOLOv7 seguiram a tendência de otimizar o desempenho em hardware especializado, como GPUs, trazendo melhorias em velocidade e implementação prática, tornando o modelo ainda mais adequado para aplicações em tempo real e com maior capacidade de generalização."
      ],
      "metadata": {
        "id": "vux8mz_VbFz8"
      }
    },
    {
      "cell_type": "markdown",
      "source": [
        "### RetinaNet (2017)\n",
        "\n",
        "RetinaNet é uma arquitetura de detecção de objetos que introduziu a Focal Loss para lidar com o problema de desbalanceamento entre classes de fundo e classes de objetos, comum em tarefas de detecção (Lin et al, 2017). Diferente das abordagens de duas etapas, como Faster R-CNN, RetinaNet adota uma estrutura de etapa única, semelhante ao YOLO, em que as previsões de classe e localizações de caixas delimitadoras são feitas diretamente a partir de mapas de características extraídos por uma rede backbone, como a ResNet. A principal inovação é a Focal Loss, que atribui menor peso às previsões de exemplos fáceis (geralmente de fundo) e foca mais nos exemplos difíceis, melhorando a detecção de objetos pequenos e difíceis de identificar, sem comprometer a eficiência. RetinaNet equilibra precisão e velocidade, tornando-se uma alternativa eficaz para detecção de objetos em larga escala.\n",
        "\n",
        "<center><img src=\"https://github.com/vhrique/anne_ptbr/blob/main/figures/retinanet.png?raw=true\" width=700></center>\n",
        "\n",
        "O RetinaNet utiliza duas funções de perda principais: a Focal Loss para a tarefa de classificação, que ajusta a entropia cruzada tradicional para lidar com o desbalanceamento entre fundo e objetos, focando mais nos exemplos difíceis e ignorando os bem classificados, e a Smooth L1 Loss para a regressão das caixas delimitadoras, que penaliza os erros de maneira suave, proporcionando um ajuste mais estável das caixas. Essas duas funções são combinadas para otimizar tanto a precisão da classificação quanto a exatidão da localização dos objetos detectados.\n",
        "\n",
        "#### Feature Pyramid Network (2016)\n",
        "\n",
        "A Feature Pyramid Network (FPN) utilizada no RetinaNet é um componente chave que melhora a detecção de objetos em diferentes escalas (Lin et al, 2016). A FPN é uma arquitetura de rede projetada para construir uma representação em múltiplas resoluções da imagem de entrada, extraindo características em várias camadas, desde as mais detalhadas (para objetos pequenos) até as mais abstratas (para objetos maiores).\n",
        "\n",
        "No RetinaNet, a FPN utiliza uma abordagem \"top-down\", onde as características de camadas mais profundas e coarser (com menos resolução) são combinadas com as de camadas mais rasas e detalhadas, resultando em uma pirâmide de características que permite detectar objetos de diversos tamanhos de forma eficiente. Isso melhora significativamente a precisão em comparação com métodos que utilizam apenas a última camada da rede convolucional, tornando o RetinaNet mais eficaz para detectar objetos pequenos e em diferentes escalas."
      ],
      "metadata": {
        "id": "zcrFS4AtbO02"
      }
    },
    {
      "cell_type": "markdown",
      "source": [
        "### DETR (2020)\n",
        "\n",
        "DETR (Detection Transformer) é uma arquitetura inovadora para detecção de objetos que combina redes neurais com o mecanismo de Transformers (Carion et al, 2020). Ao contrário das abordagens tradicionais baseadas em convoluções e region proposals, o DETR trata a detecção de objetos como um problema de correspondência entre um conjunto fixo de previsões e objetos presentes na imagem. Ele usa um backbone convolucional para extrair características da imagem, seguido por camadas de Transformers que modelam as relações globais entre as características e produzem previsões diretas para as caixas delimitadoras e classificações. DETR é único por dispensar o uso de heurísticas como Non-Maximum Suppression (NMS) e propostas de regiões, proporcionando uma abordagem simplificada e direta. Apesar de ser mais lento no treinamento inicial, o DETR demonstra forte desempenho em termos de precisão e generalização, especialmente em cenários complexos com sobreposição de objetos.\n",
        "\n",
        "<center><img src=\"https://github.com/vhrique/anne_ptbr/blob/main/figures/detr_2.png?raw=true\" width=800></center>\n",
        "\n",
        "O DETR utiliza três componentes principais em sua função de perda: a Matching Loss, baseada no algoritmo de Hungarian matching, que faz a correspondência entre as previsões e os objetos reais; a perda de classificação, que usa entropia cruzada para penalizar previsões incorretas de classe; e a perda de regressão das caixas delimitadoras, que combina L1 loss para ajustar as coordenadas das caixas e generalized IoU loss para melhorar o alinhamento entre as caixas preditas e as reais. Essas perdas são otimizadas em conjunto para garantir precisão tanto na classificação quanto na localização dos objetos."
      ],
      "metadata": {
        "id": "ruIbBB82be8I"
      }
    },
    {
      "cell_type": "markdown",
      "source": [
        "## Segmentação de Imagens\n",
        "\n",
        "Imagem\n",
        "\n",
        "<center><img src=\"https://github.com/vhrique/anne_ptbr/blob/main/figures/image_segmentation.png?raw=true\" width=500></center>"
      ],
      "metadata": {
        "id": "JLV9_fVZbR5I"
      }
    },
    {
      "cell_type": "markdown",
      "source": [
        "### FCN (2015)"
      ],
      "metadata": {
        "id": "GEvCzX7IbUmk"
      }
    },
    {
      "cell_type": "markdown",
      "source": [
        "### U-Net (2015)"
      ],
      "metadata": {
        "id": "ECcpT9wDb1gM"
      }
    },
    {
      "cell_type": "markdown",
      "source": [
        "### DeepLab (2015 - ...)"
      ],
      "metadata": {
        "id": "hP6qvI-ScAZm"
      }
    },
    {
      "cell_type": "markdown",
      "source": [
        "### Mask R-CNN (2017)"
      ],
      "metadata": {
        "id": "WtzGRdLNcDjK"
      }
    },
    {
      "cell_type": "markdown",
      "source": [
        "### SAM (2023)"
      ],
      "metadata": {
        "id": "BMELm-PGcHLv"
      }
    },
    {
      "cell_type": "markdown",
      "source": [
        "## Geração e Transformação de Imagens"
      ],
      "metadata": {
        "id": "COL0-bZpce9j"
      }
    },
    {
      "cell_type": "markdown",
      "source": [
        "### StyleGAN"
      ],
      "metadata": {
        "id": "UXylQcHKcwrN"
      }
    },
    {
      "cell_type": "markdown",
      "source": [
        "\n",
        "### CycleGAN"
      ],
      "metadata": {
        "id": "ZrJ_iD_vcy7A"
      }
    },
    {
      "cell_type": "markdown",
      "source": [
        "### PixelRNN"
      ],
      "metadata": {
        "id": "eGR3Ga7ndGxO"
      }
    },
    {
      "cell_type": "markdown",
      "source": [
        "### Outras Arquiteturas"
      ],
      "metadata": {
        "id": "L1cgyOyqg0hs"
      }
    },
    {
      "cell_type": "markdown",
      "source": [
        "# Arquiteturas para Processamento de Linguagem Natural"
      ],
      "metadata": {
        "id": "PqC8ej35dT5g"
      }
    },
    {
      "cell_type": "markdown",
      "source": [
        "## Seq2Seq"
      ],
      "metadata": {
        "id": "6VQsm70EdWP6"
      }
    },
    {
      "cell_type": "markdown",
      "source": [
        "## Transformers"
      ],
      "metadata": {
        "id": "as4NH1pmg9np"
      }
    },
    {
      "cell_type": "markdown",
      "source": [
        "# Referências\n",
        "\n",
        "- Rumelhart, D. E., Hinton, G. E., & Williams, R. J. (1986). Learning internal representations by error propagation. Parallel distributed processing, explorations in the microstructure of cognition.\n",
        "- Kingma, D. P. (2013). Auto-encoding variational bayes. arXiv preprint arXiv:1312.6114.\n",
        "- Goodfellow, I., Pouget-Abadie, J., Mirza, M., Xu, B., Warde-Farley, D., Ozair, S., ... & Bengio, Y. (2014). Generative adversarial nets. Advances in neural information processing systems, 27.\n",
        "- Girshick, R., Donahue, J., Darrell, T., & Malik, J. (2014). Rich feature hierarchies for accurate object detection and semantic segmentation. In Proceedings of the IEEE conference on computer vision and pattern recognition (pp. 580-587).\n",
        "- Girshick, R. (2015). Fast r-cnn. arXiv preprint arXiv:1504.08083.\n",
        "- Ren, S. et al. (2015). Faster r-cnn: Towards real-time object detection with region proposal networks. arXiv preprint arXiv:1506.01497.\n",
        "- Redmon, J., Divvala, S., Girshick, R., & Farhadi, A. (2015). You only look once: unified, real-time object detection (2015). arXiv preprint arXiv:1506.02640, 825.\n",
        "- Redmon, J. (2018). Yolov3: An incremental improvement. arXiv preprint arXiv:1804.02767.\n",
        "- Lin, T. Y., Dollár, P., Girshick, R., He, K., Hariharan, B., & Belongie, S. (2017). Feature pyramid networks for object detection. In Proceedings of the IEEE conference on computer vision and pattern recognition (pp. 2117-2125).\n",
        "- Lin, T. (2017). Focal Loss for Dense Object Detection. arXiv preprint arXiv:1708.02002.\n",
        "- Carion, N., Massa, F., Synnaeve, G., Usunier, N., Kirillov, A., & Zagoruyko, S. (2020, August). End-to-end object detection with transformers. In European conference on computer vision (pp. 213-229). Cham: Springer International Publishing."
      ],
      "metadata": {
        "id": "LUSFTFtsQ7E9"
      }
    },
    {
      "cell_type": "code",
      "source": [],
      "metadata": {
        "id": "sRNIenPwRGMd"
      },
      "execution_count": null,
      "outputs": []
    }
  ]
}