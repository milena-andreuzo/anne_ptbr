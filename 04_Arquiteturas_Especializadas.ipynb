{
  "nbformat": 4,
  "nbformat_minor": 0,
  "metadata": {
    "colab": {
      "provenance": [],
      "authorship_tag": "ABX9TyOQMeHc3GxMe9Mq1H1l1KfA",
      "include_colab_link": true
    },
    "kernelspec": {
      "name": "python3",
      "display_name": "Python 3"
    },
    "language_info": {
      "name": "python"
    }
  },
  "cells": [
    {
      "cell_type": "markdown",
      "metadata": {
        "id": "view-in-github",
        "colab_type": "text"
      },
      "source": [
        "<a href=\"https://colab.research.google.com/github/vhrique/anne_ptbr/blob/development/04_Arquiteturas_Especializadas.ipynb\" target=\"_parent\"><img src=\"https://colab.research.google.com/assets/colab-badge.svg\" alt=\"Open In Colab\"/></a>"
      ]
    },
    {
      "cell_type": "markdown",
      "source": [
        "# Autoencoders\n",
        "\n",
        "## Variational Autoencoders"
      ],
      "metadata": {
        "id": "mf4q3gPwUZLd"
      }
    },
    {
      "cell_type": "markdown",
      "source": [
        "# Visão Computacional"
      ],
      "metadata": {
        "id": "e0v68ocrabjX"
      }
    },
    {
      "cell_type": "markdown",
      "source": [
        "## Detecção de Objetos"
      ],
      "metadata": {
        "id": "hgTI6j4mao_w"
      }
    },
    {
      "cell_type": "markdown",
      "source": [
        "### R-CNN (2014)"
      ],
      "metadata": {
        "id": "WxR7386yawlC"
      }
    },
    {
      "cell_type": "markdown",
      "source": [
        "### Fast R-CNN (2015)"
      ],
      "metadata": {
        "id": "pDa7Azfraz7D"
      }
    },
    {
      "cell_type": "markdown",
      "source": [
        "### Faster R-CNN (2015)"
      ],
      "metadata": {
        "id": "0xF4d_0na_f8"
      }
    },
    {
      "cell_type": "markdown",
      "source": [
        "### YOLO (2015 - ...)"
      ],
      "metadata": {
        "id": "vux8mz_VbFz8"
      }
    },
    {
      "cell_type": "markdown",
      "source": [
        "### RetinaNet (2017)"
      ],
      "metadata": {
        "id": "zcrFS4AtbO02"
      }
    },
    {
      "cell_type": "markdown",
      "source": [
        "### DETR (2020)"
      ],
      "metadata": {
        "id": "ruIbBB82be8I"
      }
    },
    {
      "cell_type": "markdown",
      "source": [
        "## Segmentação de Imagens"
      ],
      "metadata": {
        "id": "JLV9_fVZbR5I"
      }
    },
    {
      "cell_type": "markdown",
      "source": [
        "### FCN (2015)"
      ],
      "metadata": {
        "id": "GEvCzX7IbUmk"
      }
    },
    {
      "cell_type": "markdown",
      "source": [
        "### U-Net (2015)"
      ],
      "metadata": {
        "id": "ECcpT9wDb1gM"
      }
    },
    {
      "cell_type": "markdown",
      "source": [
        "### DeepLab (2015 - ...)"
      ],
      "metadata": {
        "id": "hP6qvI-ScAZm"
      }
    },
    {
      "cell_type": "markdown",
      "source": [
        "### Mask R-CNN (2017)"
      ],
      "metadata": {
        "id": "WtzGRdLNcDjK"
      }
    },
    {
      "cell_type": "markdown",
      "source": [
        "### SAM (2023)"
      ],
      "metadata": {
        "id": "BMELm-PGcHLv"
      }
    },
    {
      "cell_type": "markdown",
      "source": [
        "## Geração e Transformação de Imagens"
      ],
      "metadata": {
        "id": "COL0-bZpce9j"
      }
    },
    {
      "cell_type": "markdown",
      "source": [
        "### Generative Adversarial Networks"
      ],
      "metadata": {
        "id": "yXa1i3aSUe99"
      }
    },
    {
      "cell_type": "markdown",
      "source": [
        "### StyleGAN"
      ],
      "metadata": {
        "id": "UXylQcHKcwrN"
      }
    },
    {
      "cell_type": "markdown",
      "source": [
        "\n",
        "### CycleGAN"
      ],
      "metadata": {
        "id": "ZrJ_iD_vcy7A"
      }
    },
    {
      "cell_type": "markdown",
      "source": [
        "### PixelRNN"
      ],
      "metadata": {
        "id": "eGR3Ga7ndGxO"
      }
    },
    {
      "cell_type": "markdown",
      "source": [
        "# Processamento de Linguagem Natural"
      ],
      "metadata": {
        "id": "PqC8ej35dT5g"
      }
    },
    {
      "cell_type": "markdown",
      "source": [
        "## Seq2Seq"
      ],
      "metadata": {
        "id": "6VQsm70EdWP6"
      }
    }
  ]
}