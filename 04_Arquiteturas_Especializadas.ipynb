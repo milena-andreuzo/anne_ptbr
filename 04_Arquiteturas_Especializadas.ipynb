{
  "nbformat": 4,
  "nbformat_minor": 0,
  "metadata": {
    "colab": {
      "provenance": [],
      "authorship_tag": "ABX9TyPx69pO8yJaaRJLRvM2tzFK",
      "include_colab_link": true
    },
    "kernelspec": {
      "name": "python3",
      "display_name": "Python 3"
    },
    "language_info": {
      "name": "python"
    }
  },
  "cells": [
    {
      "cell_type": "markdown",
      "metadata": {
        "id": "view-in-github",
        "colab_type": "text"
      },
      "source": [
        "<a href=\"https://colab.research.google.com/github/vhrique/anne_ptbr/blob/development/04_Arquiteturas_Especializadas.ipynb\" target=\"_parent\"><img src=\"https://colab.research.google.com/assets/colab-badge.svg\" alt=\"Open In Colab\"/></a>"
      ]
    },
    {
      "cell_type": "markdown",
      "source": [
        "# Sequência a Sequência (Seq2seq)"
      ],
      "metadata": {
        "id": "yWW7RggjUMWT"
      }
    },
    {
      "cell_type": "markdown",
      "source": [
        "# Autoencoders\n",
        "\n",
        "## Variational Autoencoders"
      ],
      "metadata": {
        "id": "mf4q3gPwUZLd"
      }
    },
    {
      "cell_type": "markdown",
      "source": [
        "# Generative Adversarial Networks\n",
        "\n",
        "## StyleGAN\n",
        "## CycleGAN"
      ],
      "metadata": {
        "id": "yXa1i3aSUe99"
      }
    },
    {
      "cell_type": "markdown",
      "source": [
        "# RCNN"
      ],
      "metadata": {
        "id": "fnU5HxKJU6Mj"
      }
    },
    {
      "cell_type": "markdown",
      "source": [
        "# MaskRCNN"
      ],
      "metadata": {
        "id": "OBoV72dDU8km"
      }
    },
    {
      "cell_type": "markdown",
      "source": [
        "# U-Net"
      ],
      "metadata": {
        "id": "EODktEftUh9J"
      }
    },
    {
      "cell_type": "code",
      "source": [],
      "metadata": {
        "id": "S8t0A469Ub3a"
      },
      "execution_count": null,
      "outputs": []
    }
  ]
}