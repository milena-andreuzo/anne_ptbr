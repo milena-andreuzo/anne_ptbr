{
  "cells": [
    {
      "cell_type": "markdown",
      "metadata": {
        "id": "view-in-github",
        "colab_type": "text"
      },
      "source": [
        "<a href=\"https://colab.research.google.com/github/vhrique/anne_ptbr/blob/main/projetos/gecco_water_quality.ipynb\" target=\"_parent\"><img src=\"https://colab.research.google.com/assets/colab-badge.svg\" alt=\"Open In Colab\"/></a>"
      ]
    },
    {
      "cell_type": "markdown",
      "source": [
        "# Packages"
      ],
      "metadata": {
        "id": "xZjwNKA70O6n"
      }
    },
    {
      "cell_type": "code",
      "execution_count": 43,
      "metadata": {
        "id": "DyAew1tR8U0y"
      },
      "outputs": [],
      "source": [
        "import numpy as np\n",
        "import pandas as pd\n",
        "\n",
        "import torch\n",
        "import torch.nn as nn\n",
        "import torch.optim as optim\n",
        "import matplotlib.pyplot as plt\n",
        "\n",
        "from sklearn import metrics\n",
        "from sklearn.utils.class_weight import compute_class_weight\n",
        "from torch.utils.data import Dataset, DataLoader, WeightedRandomSampler\n",
        "from tqdm.notebook import tqdm, trange"
      ]
    },
    {
      "cell_type": "code",
      "execution_count": 44,
      "metadata": {
        "colab": {
          "base_uri": "https://localhost:8080/"
        },
        "id": "1Ik_nw00gxnZ",
        "outputId": "d29da3b4-2759-48b7-e76c-7c7424c3b4c1"
      },
      "outputs": [
        {
          "output_type": "execute_result",
          "data": {
            "text/plain": [
              "device(type='cpu')"
            ]
          },
          "metadata": {},
          "execution_count": 44
        }
      ],
      "source": [
        "device = torch.device('cuda' if torch.cuda.is_available() else 'cpu')\n",
        "device"
      ]
    },
    {
      "cell_type": "markdown",
      "source": [
        "# Data Loading"
      ],
      "metadata": {
        "id": "Pyk2yFBp0SZI"
      }
    },
    {
      "cell_type": "code",
      "execution_count": 45,
      "metadata": {
        "id": "lj22uU3t9B9y"
      },
      "outputs": [],
      "source": [
        "training_data = pd.read_csv(\n",
        "    'https://www.dropbox.com/s/z32q8nks8iqkiuv/waterDataTraining.csv?dl=1',\n",
        "    index_col=0)\n",
        "testing_data = pd.read_csv(\n",
        "    'https://www.dropbox.com/s/3ptrkyisyks2us3/waterDataTesting.csv?dl=1',\n",
        "    index_col=0)"
      ]
    },
    {
      "cell_type": "code",
      "execution_count": 106,
      "metadata": {
        "id": "D0G4KTx0QHHC"
      },
      "outputs": [],
      "source": [
        "val_idx = round(training_data.shape[0]/2)\n",
        "train_data = training_data[:val_idx]\n",
        "val_data = training_data[val_idx:]"
      ]
    },
    {
      "cell_type": "markdown",
      "source": [
        "# Exploratory Data Analysis"
      ],
      "metadata": {
        "id": "UlTP3s7g0Y0b"
      }
    },
    {
      "cell_type": "code",
      "source": [
        "# Perform any EDA here"
      ],
      "metadata": {
        "id": "l-ONGw_j0b_a"
      },
      "execution_count": 8,
      "outputs": []
    },
    {
      "cell_type": "markdown",
      "source": [
        "# Data Processing"
      ],
      "metadata": {
        "id": "ZfA8PX4b0WgR"
      }
    },
    {
      "cell_type": "code",
      "execution_count": 74,
      "metadata": {
        "id": "R3orPuMNP5PD"
      },
      "outputs": [],
      "source": [
        "window_trend = 24 * 60 # 1 day (24 hours x 60 minutes)\n",
        "\n",
        "def preprocess_data(data, means=None, stds=None):\n",
        "    X = data.iloc[:,1:-1]\n",
        "    missing_data = 1.0 * (X.isna().sum(axis=1) > 0)\n",
        "    X = X.bfill()\n",
        "    y = data['EVENT']\n",
        "    X_trend = X.rolling(window_trend, min_periods=1).mean()\n",
        "    X -= X_trend\n",
        "    if means is None:\n",
        "        means = X.mean()\n",
        "    if stds is None:\n",
        "        stds = X.std()\n",
        "    X_detrended = (X - means)/stds\n",
        "    X_detrended['missing'] = missing_data\n",
        "    X['missing'] = missing_data\n",
        "    return torch.tensor(X_detrended.values).to(device), torch.tensor(X.values).to(device), torch.tensor(y.values, dtype=torch.double).to(device), means, stds"
      ]
    },
    {
      "cell_type": "code",
      "execution_count": 108,
      "metadata": {
        "id": "2tkDjy9fQKOC"
      },
      "outputs": [],
      "source": [
        "X_train, X_train_orig, y_train, means, stds = preprocess_data(train_data)\n",
        "X_val, X_val_orig, y_val, _, _ = preprocess_data(val_data, means=means, stds=stds)\n",
        "X_test, X_test_orig, y_test, _, _ = preprocess_data(testing_data, means=means, stds=stds)"
      ]
    },
    {
      "cell_type": "markdown",
      "source": [
        "# Modeling"
      ],
      "metadata": {
        "id": "1aoQq05q0iKi"
      }
    },
    {
      "cell_type": "markdown",
      "source": [
        "## Pytorch Dataset and Dataloader"
      ],
      "metadata": {
        "id": "tuf0NZld0kxM"
      }
    },
    {
      "cell_type": "code",
      "execution_count": 109,
      "metadata": {
        "id": "p9V_WqU9gFRQ"
      },
      "outputs": [],
      "source": [
        "class TimeseriesDataset(Dataset):\n",
        "    def __init__(self, X, y, seq_len=1):\n",
        "        self.X = X\n",
        "        self.y = y\n",
        "        self.seq_len = seq_len\n",
        "\n",
        "    def __len__(self):\n",
        "        return self.X.__len__() - (self.seq_len-1)\n",
        "\n",
        "    def __getitem__(self, index):\n",
        "        return (self.X[index:index+self.seq_len].T, self.y[index+self.seq_len-1])"
      ]
    },
    {
      "cell_type": "code",
      "execution_count": 110,
      "metadata": {
        "id": "gHE-0aF_QV5V"
      },
      "outputs": [],
      "source": [
        "window = 30"
      ]
    },
    {
      "cell_type": "code",
      "execution_count": 111,
      "metadata": {
        "id": "PMVevzv0ni0T"
      },
      "outputs": [],
      "source": [
        "weights = torch.FloatTensor([1, 1/y_train.mean()]).to(device)\n",
        "samples_weight = torch.Tensor([weights[int(t)] for t in y_train[window-1:]])\n",
        "sampler = WeightedRandomSampler(samples_weight, len(samples_weight))"
      ]
    },
    {
      "cell_type": "code",
      "execution_count": 112,
      "metadata": {
        "id": "Rp-pNnG4xWQt"
      },
      "outputs": [],
      "source": [
        "batch_size = 128\n",
        "\n",
        "train_dataset = TimeseriesDataset(X_train, y_train, seq_len=window)\n",
        "train_loader = torch.utils.data.DataLoader(train_dataset, batch_size=batch_size, sampler=sampler)\n",
        "\n",
        "train_val_dataset = TimeseriesDataset(X_train, y_train, seq_len=window)\n",
        "train_val_loader = DataLoader(train_val_dataset, batch_size=batch_size, shuffle=False)\n",
        "\n",
        "val_dataset = TimeseriesDataset(X_val, y_val, seq_len=window)\n",
        "val_loader = DataLoader(val_dataset, batch_size=batch_size, shuffle=False)\n",
        "\n",
        "test_dataset = TimeseriesDataset(X_test, y_test, seq_len=window)\n",
        "test_loader = DataLoader(test_dataset, batch_size=batch_size, shuffle=False)"
      ]
    },
    {
      "cell_type": "markdown",
      "source": [
        "## ANN Models"
      ],
      "metadata": {
        "id": "RT7XzMg00yv7"
      }
    },
    {
      "cell_type": "code",
      "execution_count": 113,
      "metadata": {
        "id": "sLaThNjpd63F"
      },
      "outputs": [],
      "source": [
        "class DeepNet(torch.nn.Module):\n",
        "\n",
        "  def __init__(self, window=30, n_hidden_layers=6, hidden_layer_dim=128,\n",
        "               kernel_size=3, use_batch_norm=True):\n",
        "\n",
        "    super(DeepNet, self).__init__()\n",
        "\n",
        "    self.convs = [torch.nn.Conv1d(10, hidden_layer_dim, kernel_size)]\n",
        "    for _ in range(n_hidden_layers):\n",
        "      self.convs.append(\n",
        "          torch.nn.Conv1d(hidden_layer_dim, hidden_layer_dim, kernel_size)\n",
        "      )\n",
        "    self.convs = torch.nn.ModuleList(self.convs)\n",
        "\n",
        "    self.batch_norms = torch.nn.ModuleList([\n",
        "        torch.nn.BatchNorm1d(hidden_layer_dim)\n",
        "        if use_batch_norm else None\n",
        "        for _ in range(n_hidden_layers + 1)\n",
        "    ])\n",
        "\n",
        "    pool_size = window - len(self.convs)*(kernel_size - 1)\n",
        "    self.pool = torch.nn.AvgPool1d(pool_size)\n",
        "\n",
        "    self.fc1 = torch.nn.Linear(hidden_layer_dim, hidden_layer_dim)\n",
        "    self.fc2 = torch.nn.Linear(hidden_layer_dim, 1)\n",
        "\n",
        "  def forward(self, x):\n",
        "\n",
        "    for conv, bn in zip(self.convs, self.batch_norms):\n",
        "      x = conv(x)\n",
        "      if bn is not None:\n",
        "        x = bn(x)\n",
        "      x = torch.relu(x)\n",
        "\n",
        "    x = self.pool(x)\n",
        "    x = torch.flatten(x, 1)\n",
        "\n",
        "    x = self.fc1(x)\n",
        "    feat = torch.relu(x)\n",
        "\n",
        "    x = self.fc2(feat)\n",
        "\n",
        "    return x, feat"
      ]
    },
    {
      "cell_type": "markdown",
      "source": [
        "# Training and evaluation functions"
      ],
      "metadata": {
        "id": "PH6Qidqq075G"
      }
    },
    {
      "cell_type": "code",
      "execution_count": 114,
      "metadata": {
        "id": "txFR_n25UUA7"
      },
      "outputs": [],
      "source": [
        "def train(model, loader, criterion, optimizer):\n",
        "    model.train()\n",
        "    running_loss = 0.0\n",
        "    for i, data in enumerate(loader):\n",
        "        input, label = data\n",
        "        optimizer.zero_grad()\n",
        "        output, _ = model(input)\n",
        "        loss = criterion(output.flatten(), label)\n",
        "        loss.backward()\n",
        "        optimizer.step()\n",
        "        running_loss += loss.item()\n",
        "    return running_loss / len(loader)\n",
        "\n",
        "def validate(model, loader, criterion):\n",
        "    model.eval()\n",
        "    running_loss = 0.0\n",
        "    with torch.no_grad():\n",
        "        for i, data in enumerate(loader):\n",
        "            inputs, labels = data\n",
        "            outputs, _ = model(inputs)\n",
        "            loss = criterion(outputs.flatten(), labels)\n",
        "            running_loss += loss.item()\n",
        "    return running_loss / len(loader)"
      ]
    },
    {
      "cell_type": "code",
      "execution_count": null,
      "metadata": {
        "id": "P2gFyvCUUgrc"
      },
      "outputs": [],
      "source": [
        "model = DeepNet(window).double().to(device)\n",
        "\n",
        "train_criterion = torch.nn.BCEWithLogitsLoss()\n",
        "val_criterion = torch.nn.BCEWithLogitsLoss()\n",
        "optimizer = torch.optim.SGD(model.parameters(), lr=0.005, momentum=0.9)\n",
        "\n",
        "epochs = 1\n",
        "train_epoch_loss = []\n",
        "val_epoch_loss = []\n",
        "for epoch in tqdm(range(epochs)):\n",
        "    train_loss = train(model, train_loader, train_criterion, optimizer)\n",
        "    val_loss = validate(model, val_loader, val_criterion)\n",
        "    train_epoch_loss.append(train_loss)\n",
        "    val_epoch_loss.append(val_loss)\n",
        "\n",
        "plt.plot(train_epoch_loss)\n",
        "plt.plot(val_epoch_loss)\n",
        "plt.xlabel('epoch')\n",
        "plt.ylabel('BCELoss')\n",
        "plt.show()"
      ]
    },
    {
      "cell_type": "markdown",
      "source": [
        "# Model Evaluation"
      ],
      "metadata": {
        "id": "J2rdpy7p4ljw"
      }
    },
    {
      "cell_type": "code",
      "execution_count": 116,
      "metadata": {
        "id": "kLCRDrbqXciz"
      },
      "outputs": [],
      "source": [
        "def compute_outputs_and_features(model, data_loader):\n",
        "    model.eval()\n",
        "    all_outputs = []\n",
        "    all_features = []\n",
        "    for i, data in enumerate(data_loader):\n",
        "        inputs, _ = data\n",
        "        with torch.no_grad():\n",
        "            outputs, features = model(inputs)\n",
        "            outputs = torch.sigmoid(outputs)\n",
        "        all_outputs.append(outputs.flatten())\n",
        "        all_features.append(features)\n",
        "    y_pred = torch.cat(all_outputs).cpu().numpy()\n",
        "    feat = torch.cat(all_features).cpu().numpy()\n",
        "    return y_pred, feat"
      ]
    },
    {
      "cell_type": "code",
      "execution_count": 117,
      "metadata": {
        "id": "FtbhPVpfxkW-"
      },
      "outputs": [],
      "source": [
        "y_train_pred, feat_train = compute_outputs_and_features(model, train_val_loader)\n",
        "y_val_pred, feat_val = compute_outputs_and_features(model, val_loader)\n",
        "y_test_pred, feat_test = compute_outputs_and_features(model, test_loader)"
      ]
    },
    {
      "cell_type": "code",
      "execution_count": 118,
      "metadata": {
        "colab": {
          "base_uri": "https://localhost:8080/"
        },
        "id": "4vmUrmPbURVI",
        "outputId": "eaa116a4-ab8b-4014-f385-663b93fd104a"
      },
      "outputs": [
        {
          "output_type": "stream",
          "name": "stdout",
          "text": [
            "              precision    recall  f1-score   support\n",
            "\n",
            "       False       1.00      0.93      0.96      4827\n",
            "        True       0.29      1.00      0.45       144\n",
            "\n",
            "    accuracy                           0.93      4971\n",
            "   macro avg       0.64      0.96      0.70      4971\n",
            "weighted avg       0.98      0.93      0.95      4971\n",
            "\n"
          ]
        }
      ],
      "source": [
        "th = 0.5\n",
        "print(metrics.classification_report(y_train[window-1:].cpu() > th, y_train_pred > th))"
      ]
    },
    {
      "cell_type": "code",
      "execution_count": 119,
      "metadata": {
        "colab": {
          "base_uri": "https://localhost:8080/"
        },
        "id": "nEqk7K3_-mZI",
        "outputId": "a09b8ffc-036f-4176-f2de-12941c97974a"
      },
      "outputs": [
        {
          "output_type": "stream",
          "name": "stdout",
          "text": [
            "              precision    recall  f1-score   support\n",
            "\n",
            "       False       0.99      0.97      0.98      4884\n",
            "        True       0.21      0.51      0.30        87\n",
            "\n",
            "    accuracy                           0.96      4971\n",
            "   macro avg       0.60      0.74      0.64      4971\n",
            "weighted avg       0.98      0.96      0.97      4971\n",
            "\n"
          ]
        }
      ],
      "source": [
        "th = 0.5\n",
        "print(metrics.classification_report(y_val[window-1:].cpu() > th, y_val_pred > th))"
      ]
    },
    {
      "cell_type": "code",
      "execution_count": null,
      "metadata": {
        "colab": {
          "base_uri": "https://localhost:8080/"
        },
        "id": "LWLl9k91UgiC",
        "outputId": "c51ee715-7788-4b89-b46b-11d5389fed3a"
      },
      "outputs": [
        {
          "output_type": "stream",
          "name": "stdout",
          "text": [
            "              precision    recall  f1-score   support\n",
            "\n",
            "       False       1.00      0.70      0.83    137208\n",
            "        True       0.05      0.91      0.09      2329\n",
            "\n",
            "    accuracy                           0.71    139537\n",
            "   macro avg       0.52      0.81      0.46    139537\n",
            "weighted avg       0.98      0.71      0.81    139537\n",
            "\n"
          ]
        }
      ],
      "source": [
        "th = 0.05\n",
        "print(metrics.classification_report(y_test[window-1:].cpu() > th, y_test_pred > th))"
      ]
    },
    {
      "cell_type": "code",
      "execution_count": null,
      "metadata": {
        "colab": {
          "base_uri": "https://localhost:8080/",
          "height": 430
        },
        "id": "IFrX-GuheJqB",
        "outputId": "bff8bc5a-4cea-463e-a1a6-6e3c57cba556"
      },
      "outputs": [
        {
          "output_type": "display_data",
          "data": {
            "text/plain": [
              "<Figure size 640x480 with 1 Axes>"
            ],
            "image/png": "[encoded data removed]"
          },
          "metadata": {}
        }
      ],
      "source": [
        "fpr, tpr, th = metrics.roc_curve(y_test[window-1:].cpu(), y_test_pred)\n",
        "plt.plot(fpr, tpr)\n",
        "\n",
        "fpr, tpr, th = metrics.roc_curve(y_test[window-1:].cpu(), torch.rand(y_test_pred.shape))\n",
        "plt.plot(fpr, tpr)\n",
        "\n",
        "plt.plot([0,1], [0,1], ':k')\n",
        "\n",
        "plt.show()"
      ]
    }
  ],
  "metadata": {
    "accelerator": "GPU",
    "colab": {
      "provenance": [],
      "gpuType": "T4",
      "mount_file_id": "1g5g6XInKkBovKOaSJnYYv1HUu8XGPnO_",
      "authorship_tag": "ABX9TyPeV+fx8vHAcK7+PU0l4xQa",
      "include_colab_link": true
    },
    "kernelspec": {
      "display_name": "Python 3",
      "name": "python3"
    }
  },
  "nbformat": 4,
  "nbformat_minor": 0
}