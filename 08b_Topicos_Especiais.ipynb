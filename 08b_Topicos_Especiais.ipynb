{
  "nbformat": 4,
  "nbformat_minor": 0,
  "metadata": {
    "colab": {
      "provenance": [],
      "authorship_tag": "ABX9TyMd2ZvAmnqLWfuOC0UClRX/",
      "include_colab_link": true
    },
    "kernelspec": {
      "name": "python3",
      "display_name": "Python 3"
    },
    "language_info": {
      "name": "python"
    }
  },
  "cells": [
    {
      "cell_type": "markdown",
      "metadata": {
        "id": "view-in-github",
        "colab_type": "text"
      },
      "source": [
        "<a href=\"https://colab.research.google.com/github/vhrique/anne_ptbr/blob/main/08b_Topicos_Especiais.ipynb\" target=\"_parent\"><img src=\"https://colab.research.google.com/assets/colab-badge.svg\" alt=\"Open In Colab\"/></a>"
      ]
    },
    {
      "cell_type": "markdown",
      "source": [
        "# Tópicos Especiais"
      ],
      "metadata": {
        "id": "e9wU7Kl2YVil"
      }
    },
    {
      "cell_type": "markdown",
      "source": [
        "## Deep Reinforcement Learning"
      ],
      "metadata": {
        "id": "d1U44AcwYmLD"
      }
    },
    {
      "cell_type": "markdown",
      "source": [
        "## Deep Recommender Systems"
      ],
      "metadata": {
        "id": "zBS57sirYo8y"
      }
    },
    {
      "cell_type": "markdown",
      "source": [
        "## Meta-Learning"
      ],
      "metadata": {
        "id": "Z37CDkiFYqmD"
      }
    },
    {
      "cell_type": "markdown",
      "source": [
        "## Ética em IA"
      ],
      "metadata": {
        "id": "2SlAdEg8YeYy"
      }
    },
    {
      "cell_type": "markdown",
      "source": [
        "### Explainable AI"
      ],
      "metadata": {
        "id": "kvPOcJGhYkbE"
      }
    },
    {
      "cell_type": "markdown",
      "source": [
        "# Considerações Finais"
      ],
      "metadata": {
        "id": "LPzAXJpCYZed"
      }
    },
    {
      "cell_type": "markdown",
      "source": [
        "# Referências"
      ],
      "metadata": {
        "id": "JWEvsLw3YYS1"
      }
    }
  ]
}