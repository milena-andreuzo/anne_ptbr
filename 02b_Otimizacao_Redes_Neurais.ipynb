{
  "nbformat": 4,
  "nbformat_minor": 0,
  "metadata": {
    "colab": {
      "provenance": [],
      "authorship_tag": "ABX9TyMas7cbKubxvrahuvaUz3Qo",
      "include_colab_link": true
    },
    "kernelspec": {
      "name": "python3",
      "display_name": "Python 3"
    },
    "language_info": {
      "name": "python"
    }
  },
  "cells": [
    {
      "cell_type": "markdown",
      "metadata": {
        "id": "view-in-github",
        "colab_type": "text"
      },
      "source": [
        "<a href=\"https://colab.research.google.com/github/vhrique/anne_ptbr/blob/main/02b_Otimizacao_Redes_Neurais.ipynb\" target=\"_parent\"><img src=\"https://colab.research.google.com/assets/colab-badge.svg\" alt=\"Open In Colab\"/></a>"
      ]
    },
    {
      "cell_type": "markdown",
      "source": [
        "# Algoritmos de Otimização para Redes Neurais Artificiais\n",
        "\n",
        "Os algoritmos de otimização são fundamentais para o processo de aprendizagem de redes neurais, pois determinam como os pesos dos neurônios são ajustados para minimizar a função de perda durante o treinamento.\n",
        "O objetivo da otimização é encontrar os melhores parâmetros (pesos e vieses) que permitam à rede fazer previsões precisas em novos dados.\n",
        "\n",
        "A função de perda mede o quão longe as previsões do modelo estão dos valores reais, e o papel do algoritmo de otimização é minimizar essa função ajustando gradualmente os pesos.\n",
        "Isso é feito por meio do cálculo do gradiente, pelo algoritmo de _backpropagation_, que indica a direção e a magnitude da mudança necessária nos pesos.\n",
        "\n",
        "Agora, vamos explorar alguns dos principais algoritmos relacionados à otimização de redes neurais artificiais."
      ],
      "metadata": {
        "id": "LaQKV-YU-SqI"
      }
    },
    {
      "cell_type": "markdown",
      "source": [
        "## Backpropagation\n",
        "\n",
        "A criação do algoritmo de bakpropagation em 1986 foi um marco decisivo na área de inteligência artificial. Antes disso, havia muita dificuldade em treinar redes neurais com mais camadas para resolver problemas não-lineares.\n",
        "O algoritmo de _backpropagaation_ consegue, a partir da regra da cadeia, propagar os gradientes relacionados aos erros de classificação de uma camada a outra, o que permite o treino de modelos com múltiplas camadas utilizando algoritmos de otimização por gradiente descendente.\n",
        "\n",
        "O algoritmo funciona da seguinte forma:\n",
        "\n",
        "1. O modelo recebe as entradas $x$ e faz a propagação direta (forward pass), gerando saídas $\\hat{y}$\n",
        "2. Uma função de perda é utilizada para calcular o erro $e$ em função da saída $\\hat{y}$ e da saída esperada $y$.\n",
        "3. O gradiente do erro é propagado para as camadas anteriores utilizando a regra da cadeia\n",
        "\n",
        "<center><img src=\"https://github.com/vhrique/anne_ptbr/blob/main/figures/backprop.jpg?raw=true\" width=\"500\"></center>\n",
        "\n",
        "A partir dos gradientes calculados para cada parâmetro, o algoritmo de otimização gradiente descendente consegue ajustar os pesos para minimizar o erro do modelo."
      ],
      "metadata": {
        "id": "0w-MkkDivTNF"
      }
    },
    {
      "cell_type": "markdown",
      "source": [
        "### Regra da Cadeia\n",
        "\n",
        "A regra da cadeia é o princípio matemático que permite a propagação das derivadas no algoritmo de _backpropagation_.\n",
        "A partir desta regra, é possível calcular o gradiente do erro $E$ em função da variação de cada parâmetro da rede $\\delta w_n$ na forma $\\frac{\\delta E}{\\delta w_n}$.\n",
        "\n",
        "Vejamos como exemplo uma rede simples abaixo, onde temos o erro entre a saída do modelo $\\hat{y}$ e a saída esperada $y$, uma função de ativação $f(\\cdot)$, um valor intermediário $z$, um peso $w$, um viés $b$ e uma entrada $x$.\n",
        "\n",
        "<center><img src=\"https://github.com/vhrique/anne_ptbr/blob/main/figures/simple_backprop.jpg?raw=true\" width=\"500\"></center>\n",
        "\n",
        "Nosso objetivo é calcular $\\frac{\\delta E}{\\delta w_n}$. Para isto, podemos utilizar a regra da cadeia, onde temos um produto de gradientes de cada etapa entre $w$ e $E$.\n",
        "Esta regra pode ser aplicada para encontrar o gradiente do erro em função de demais parâmetros que poderiam vir antes de $x$.\n",
        "\n",
        "<center><img src=\"https://github.com/vhrique/anne_ptbr/blob/main/figures/chain_rule.jpg?raw=true\" width=\"400\"></center>\n",
        "\n",
        "Temos também outra propriedade, quando um parâmetro recebe o gradiente de diversos caminhos diferentes.\n",
        "\n",
        "<center><img src=\"https://github.com/vhrique/anne_ptbr/blob/main/figures/multiple_gradients.jpg?raw=true\" width=\"500\"></center>\n",
        "\n",
        "Nestes casos, podemos apenas somar os gradientes.\n",
        "\n",
        "<center><img src=\"https://github.com/vhrique/anne_ptbr/blob/main/figures/multiple_gradients_math.jpg?raw=true\" width=\"400\"></center>"
      ],
      "metadata": {
        "id": "5tK6Hd0xwt7o"
      }
    },
    {
      "cell_type": "markdown",
      "source": [
        "## Gradiente Descendente\n",
        "\n",
        "O gradiente descendente é o algoritmo de otimização mais simples e amplamente utilizado.\n",
        "Ele funciona ajustando os pesos na direção oposta ao gradiente da função de perda com relação a esses pesos.\n",
        "A ideia é que, ao seguir essa direção de forma iterativa, o algoritmo chegue ao mínimo da função de perda, onde o modelo realiza as previsões mais precisas.\n",
        "Sua idéia original foi proposta por Augustin Cauchy (1847).\n",
        "\n",
        "Existem três variações principais do gradiente descendente:\n",
        "\n",
        "- Batch Gradient Descent: Calcula o gradiente em todo o conjunto de dados de treinamento antes de atualizar os pesos. Esse método pode ser lento e ineficiente para grandes conjuntos de dados.\n",
        "- Stochastic Gradient Descent (SGD): Atualiza os pesos para cada exemplo de treino individual, tornando o processo mais rápido, mas introduzindo maior variação nas atualizações. Teve suas origens baseadas nos estudos de Robbins e Monro (1951).\n",
        "- Mini-Batch Gradient Descent: Combina os dois anteriores, calculando o gradiente em pequenos lotes de dados, acelerando o treinamento e suavizando a variação das atualizações.\n",
        "\n",
        "Para utilizar este algoritmo em pytorch, instanciamos um objeto de otimização conforme a célula abaixo."
      ],
      "metadata": {
        "id": "pFU_GM8cHu32"
      }
    },
    {
      "cell_type": "code",
      "source": [
        "optimizer = torch.optim.SGD(model.parameters(), lr=0.01)"
      ],
      "metadata": {
        "id": "2DBgT7DMaFq4"
      },
      "execution_count": null,
      "outputs": []
    },
    {
      "cell_type": "markdown",
      "source": [
        "## Principais Avanços em Algoritmos de Otimização\n",
        "\n",
        "A partir do algoritmo do gradiente descendente, foram propostos novos algoritmos que aceleram a convergência durante o treinamento de redes neurais. Esta seção apresenta alguns deles."
      ],
      "metadata": {
        "id": "3fNcmyZ9w2s7"
      }
    },
    {
      "cell_type": "markdown",
      "source": [
        "### Momentum\n",
        "\n",
        "O Momentum foi introduzido como uma melhoria ao gradiente descendente por Polyak em 1964.\n",
        "Recentemente, sua aplicação foi fundamental para acelerar o desenvolvimento de redes neurais artificiais (Sutskever et al., 2013).\n",
        "Ele acelera o processo de convergência em direção ao mínimo, acumulando uma fração do gradiente anterior em cada atualização.\n",
        "Isso ajuda a suavizar o caminho em direção ao mínimo, evitando oscilações, especialmente em direções que têm gradientes mais ruidosos.\n",
        "\n",
        "A ideia é que, em vez de seguir estritamente a direção do gradiente atual, o modelo leva em conta o \"momento\" da direção em que está se movendo, como uma bola rolando por uma superfície irregular.\n",
        "Isso permite que o modelo alcance o mínimo mais rapidamente.\n",
        "\n",
        "Utilizamos este otimizador em Pytorch conforme acélula abaixo."
      ],
      "metadata": {
        "id": "UxUeC9FcICIS"
      }
    },
    {
      "cell_type": "code",
      "source": [
        "optimizer = torch.optim.SGD(model.parameters(), lr=0.01, momentum=0.1)"
      ],
      "metadata": {
        "id": "96Mc02LQaF_t"
      },
      "execution_count": null,
      "outputs": []
    },
    {
      "cell_type": "markdown",
      "source": [
        "### RMSProp\n",
        "\n",
        "O RMSProp é um método de otimização adaptativo proposto por Hinton et al. (2012) que ajusta a taxa de aprendizado individualmente para cada parâmetro, com base na magnitude dos gradientes recentes.\n",
        "Ele mantém uma média móvel quadrada dos gradientes ao longo do tempo e, ao dividir o gradiente atual por essa média, corrige a taxa de aprendizado para cada parâmetro.\n",
        "Isso faz com que RMSProp se adapte melhor a problemas com gradientes que variam em escalas diferentes.\n",
        "\n",
        "Essa adaptação da taxa de aprendizado para cada peso torna o treinamento mais estável e eficaz, especialmente em problemas como redes neurais profundas, onde as atualizações dos pesos podem variar muito.\n",
        "\n",
        "Utilizamos este otimizador em Pytorch conforme acélula abaixo."
      ],
      "metadata": {
        "id": "z-1SJV1GIDqA"
      }
    },
    {
      "cell_type": "code",
      "source": [
        "optimizer = torch.optim.RMSProp(model.parameters(), lr=0.01, alpha=0.99)"
      ],
      "metadata": {
        "id": "iq3A3H5kaGZN"
      },
      "execution_count": null,
      "outputs": []
    },
    {
      "cell_type": "markdown",
      "source": [
        "### ADAM\n",
        "\n",
        "O ADAM (Kingma e Ba, 2014) combina o melhor de dois mundos: as ideias do Momentum e do RMSProp.\n",
        "Ele calcula uma média móvel dos gradientes (como o Momentum) e uma média móvel dos quadrados dos gradientes (como o RMSProp), ajustando a taxa de aprendizado de forma adaptativa para cada parâmetro.\n",
        "\n",
        "ADAM também inclui uma correção para viés nos primeiros passos, garantindo que as médias móveis comecem corretamente ajustadas.\n",
        "Esse algoritmo é um dos mais populares atualmente, pois oferece uma convergência mais rápida e estável em diversos tipos de problemas de redes neurais, sendo menos sensível à escolha da taxa de aprendizado inicial.\n",
        "\n",
        "Utilizamos este otimizador em Pytorch conforme acélula abaixo."
      ],
      "metadata": {
        "id": "qSTI7LBNJf6X"
      }
    },
    {
      "cell_type": "code",
      "source": [
        "optimizer = torch.optim.Adam(model.parameters(), lr=0.01)"
      ],
      "metadata": {
        "id": "Ji-mSJDDaGyL"
      },
      "execution_count": null,
      "outputs": []
    },
    {
      "cell_type": "markdown",
      "source": [
        "## Outros Algoritmos de Otimização\n",
        "\n",
        "Além dos algoritmos clássicos que discutimos (Gradiente Descendente, Momentum, RMSProp e ADAM), existem outros algoritmos de otimização relevantes que, dependendo do problema e das características da rede neural, podem oferecer vantagens em termos de desempenho ou convergência.\n",
        "\n",
        "O **AdaGrad** é um dos primeiros algoritmos de otimização adaptativos, introduzido antes do RMSProp.\n",
        "Ele ajusta a taxa de aprendizado para cada parâmetro de forma individual, com base nas atualizações anteriores.\n",
        "Isso significa que parâmetros raramente atualizados têm uma taxa de aprendizado maior, enquanto aqueles que já foram ajustados várias vezes têm a taxa de aprendizado reduzida.\n",
        "Embora seja útil em problemas esparsos, como no processamento de linguagem natural, onde algumas features são raras, AdaGrad pode sofrer de um decaimento excessivo da taxa de aprendizado, o que leva a convergência mais lenta em muitos casos.\n",
        "\n",
        "O **AdaDelta** é uma variação do AdaGrad, projetada para corrigir o problema de decaimento da taxa de aprendizado.\n",
        "Em vez de acumular todas as atualizações anteriores, como o AdaGrad, o AdaDelta mantém uma janela deslizante de atualizações recentes, limitando o impacto de atualizações passadas muito distantes.\n",
        "Isso mantém a adaptabilidade da taxa de aprendizado sem que ela diminua drasticamente ao longo do tempo.\n",
        "Assim como o RMSProp, AdaDelta é muito utilizado em redes profundas e outros problemas complexos.\n",
        "\n",
        "O **Nadam** é uma combinação de ADAM com o conceito de Nesterov Momentum.\n",
        "A diferença em relação ao Momentum clássico é que, no Nesterov Momentum, o cálculo do gradiente é realizado com uma \"visão antecipada\" da direção para onde os pesos estão se movendo, o que pode acelerar o processo de convergência.\n",
        "O Nadam aplica essa ideia no contexto do ADAM, resultando em um algoritmo que pode ser ligeiramente mais eficiente e estável do que o ADAM em certos cenários.\n",
        "\n",
        "O **AMSGrad** é uma modificação do ADAM que tenta resolver um problema de convergência observada no ADAM original, especialmente em situações onde a função de perda não é convexa.\n",
        "No ADAM, os parâmetros de aprendizado podem não convergir para o ótimo global em algumas situações.\n",
        "O AMSGrad corrige isso, garantindo que as médias móveis dos gradientes só decaiam, o que melhora a convergência em alguns problemas."
      ],
      "metadata": {
        "id": "TqWpKy9EPVb7"
      }
    },
    {
      "cell_type": "markdown",
      "source": [
        "# Exercícios\n",
        "\n",
        "1. Testar três diferentes learning rates e dois algoritmos de otimização no problema de regressão. O que é possível verificar de diferente?"
      ],
      "metadata": {
        "id": "fd8BOw-cfspN"
      }
    },
    {
      "cell_type": "markdown",
      "source": [
        "# Considerações Finais\n",
        "\n",
        "Neste capítulo, apresentamos diferentes algoritmos de otimização que podemos utilizar quando desenvolvemos nossos modelos.\n",
        "\n",
        "## Próximo Capítulo\n",
        "\n",
        "Nos próximos capítulos, falaremos mais sobre representações de redes neurais. Mais especificamente, iremos discutir diferentes arquiteturas discriminativas de redes neurais, utilizadas para visão computacional e sequências."
      ],
      "metadata": {
        "id": "EpsVl-6Tf5Rb"
      }
    },
    {
      "cell_type": "markdown",
      "source": [
        "# Referências\n",
        "\n",
        "- Rumelhart, D. E., Hinton, G. E., & Williams, R. J. (1986). Learning representations by back-propagating errors. nature, 323(6088), 533-536.\n",
        "- Cauchy, A. (1847). Méthode générale pour la résolution des systemes d'équations simultanées. Comp. Rend. Sci. Paris, 25(1847), 536-538.\n",
        "- Robbins, H., & Monro, S. (1951). A stochastic approximation method. The annals of mathematical statistics, 400-407.\n",
        "- Polyak, B. T. (1964). Some methods of speeding up the convergence of iteration methods. Ussr computational mathematics and mathematical physics, 4(5), 1-17.\n",
        "- Sutskever, I., Martens, J., Dahl, G., & Hinton, G. (2013, May). On the importance of initialization and momentum in deep learning. In International conference on machine learning (pp. 1139-1147). PMLR.\n",
        "- Hinton, G., Srivastava, N., & Swersky, K. (2012). Neural networks for machine learning lecture 6a overview of mini-batch gradient descent. Cited on, 14(8), 2.\n",
        "- Kingma, D. P. (2014). Adam: A method for stochastic optimization. arXiv preprint arXiv:1412.6980."
      ],
      "metadata": {
        "id": "yg-Auww0LByt"
      }
    }
  ]
}