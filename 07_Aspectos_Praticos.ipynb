{
  "nbformat": 4,
  "nbformat_minor": 0,
  "metadata": {
    "colab": {
      "provenance": [],
      "authorship_tag": "ABX9TyN94BnSDnCTAefx+ZqtKk1a",
      "include_colab_link": true
    },
    "kernelspec": {
      "name": "python3",
      "display_name": "Python 3"
    },
    "language_info": {
      "name": "python"
    }
  },
  "cells": [
    {
      "cell_type": "markdown",
      "metadata": {
        "id": "view-in-github",
        "colab_type": "text"
      },
      "source": [
        "<a href=\"https://colab.research.google.com/github/vhrique/anne_ptbr/blob/main/07_Aspectos_Praticos.ipynb\" target=\"_parent\"><img src=\"https://colab.research.google.com/assets/colab-badge.svg\" alt=\"Open In Colab\"/></a>"
      ]
    },
    {
      "cell_type": "markdown",
      "source": [
        "# Introdução a Aspectos Práticos\n",
        "\n"
      ],
      "metadata": {
        "id": "VkRa-OD96pWr"
      }
    },
    {
      "cell_type": "markdown",
      "source": [
        "# Paradigmas de Aprendizagem com Dados Limitados\n",
        "\n",
        "## Transfer Learning\n",
        "\n",
        "## Few-shot Learning\n",
        "\n",
        "## Zero-shot Learning"
      ],
      "metadata": {
        "id": "nZQxyrrFLq01"
      }
    },
    {
      "cell_type": "markdown",
      "source": [
        "# Redução de Modelos\n",
        "\n",
        "## Model Distillation\n",
        "\n",
        "## Prunning\n",
        "\n",
        "## Quantization"
      ],
      "metadata": {
        "id": "ZrgrjUHHEScM"
      }
    },
    {
      "cell_type": "markdown",
      "source": [
        "# Generalização de Domínio\n",
        "\n",
        "## Supervised Domain Adaptation\n",
        "\n",
        "## Unsupervised Domain Adaptation\n",
        "\n",
        "## Test-time Adaptation"
      ],
      "metadata": {
        "id": "D8dELunQEVmv"
      }
    },
    {
      "cell_type": "markdown",
      "source": [
        "# Receita para Treinar Redes Neurais Artificiais"
      ],
      "metadata": {
        "id": "GgAdKog4B87Y"
      }
    },
    {
      "cell_type": "markdown",
      "source": [
        "## Análise Exploratória de Dados"
      ],
      "metadata": {
        "id": "ppGKdJ5TCAdg"
      }
    },
    {
      "cell_type": "markdown",
      "source": [
        "## Criar uma Arquitetura Inicial\n",
        "\n",
        "### Selecione uma Arquitetura Inicial Simples\n",
        "\n",
        "### Inicie com Padrões\n",
        "\n",
        "### Normalize os Dados de Entrada\n",
        "\n",
        "### Use um Conjunto de Dados Reduzido\n",
        "\n",
        "### Troubleshoot"
      ],
      "metadata": {
        "id": "ocvDm1INCDFR"
      }
    },
    {
      "cell_type": "markdown",
      "source": [
        "## Avaliar Modelo\n",
        "\n",
        "### Análise de Erros\n",
        "\n",
        "### Curvas de Aprendizagem"
      ],
      "metadata": {
        "id": "uZRsep0o-PPv"
      }
    },
    {
      "cell_type": "markdown",
      "source": [
        "## Overfit\n",
        "\n",
        "### Aumentar o Modelo\n",
        "\n",
        "### Reduzir Regularização\n",
        "\n",
        "### Adicionar Features Novas"
      ],
      "metadata": {
        "id": "_YoQKxNqCGhl"
      }
    },
    {
      "cell_type": "markdown",
      "source": [
        "## Regularização\n",
        "\n",
        "### Adicionar mais Dados\n",
        "\n",
        "### Pré-treino\n",
        "\n",
        "### Adicionar Normalização (BatchNorm, LayerNorm)\n",
        "\n",
        "### Adicionar Data Augmentation\n",
        "\n",
        "### Reduzir Batch Size\n",
        "\n",
        "### Dropout\n",
        "\n",
        "### Regularização de Parâmetros (L2)\n",
        "\n",
        "### Label Smoothing\n",
        "\n",
        "### Early Stopping\n",
        "\n",
        "### Reduzir Tamanho do Modelo\n",
        "\n",
        "### Aumentar Tamanho de Modelo"
      ],
      "metadata": {
        "id": "ltO_THRZCJnM"
      }
    },
    {
      "cell_type": "markdown",
      "source": [
        "## Refinar\n",
        "\n",
        "### Ajuste de Hyperparâmetros\n",
        "\n",
        "### Learning Rate Schedule\n",
        "\n",
        "### Exponential Moving Average"
      ],
      "metadata": {
        "id": "oQOE9w2bNqCL"
      }
    }
  ]
}