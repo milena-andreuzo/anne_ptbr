{
  "nbformat": 4,
  "nbformat_minor": 0,
  "metadata": {
    "colab": {
      "provenance": [],
      "authorship_tag": "ABX9TyNmFPfbTG9Rx1t5cxXl++v+",
      "include_colab_link": true
    },
    "kernelspec": {
      "name": "python3",
      "display_name": "Python 3"
    },
    "language_info": {
      "name": "python"
    }
  },
  "cells": [
    {
      "cell_type": "markdown",
      "metadata": {
        "id": "view-in-github",
        "colab_type": "text"
      },
      "source": [
        "<a href=\"https://colab.research.google.com/github/vhrique/anne_ptbr/blob/main/06_Paradigmas_Compostos.ipynb\" target=\"_parent\"><img src=\"https://colab.research.google.com/assets/colab-badge.svg\" alt=\"Open In Colab\"/></a>"
      ]
    },
    {
      "cell_type": "markdown",
      "source": [
        "# Paradigmas Compostos"
      ],
      "metadata": {
        "id": "vUuWQyJ3fhC4"
      }
    },
    {
      "cell_type": "markdown",
      "source": [
        "# Multi-task Learning"
      ],
      "metadata": {
        "id": "zr6_LCzjfkXD"
      }
    },
    {
      "cell_type": "markdown",
      "source": [
        "## Formas"
      ],
      "metadata": {
        "id": "dtBEmT0sfvUp"
      }
    },
    {
      "cell_type": "markdown",
      "source": [
        "## Exemplos"
      ],
      "metadata": {
        "id": "dsT5WwO0f2od"
      }
    },
    {
      "cell_type": "markdown",
      "source": [
        "# Multi-modal Learning"
      ],
      "metadata": {
        "id": "kKenHkh9fniK"
      }
    },
    {
      "cell_type": "markdown",
      "source": [
        "## Entradas Multi Modais"
      ],
      "metadata": {
        "id": "_m_UqQS1f4Qi"
      }
    },
    {
      "cell_type": "markdown",
      "source": [
        "### Perceiver"
      ],
      "metadata": {
        "id": "JDCMC9s6hvnU"
      }
    },
    {
      "cell_type": "markdown",
      "source": [
        "## Modelos para Conversão"
      ],
      "metadata": {
        "id": "QE2E4cRLf7bm"
      }
    },
    {
      "cell_type": "markdown",
      "source": [
        "### DALL-E"
      ],
      "metadata": {
        "id": "Mp1lujVrhzK9"
      }
    },
    {
      "cell_type": "markdown",
      "source": [
        "# Joint-embedding Learning"
      ],
      "metadata": {
        "id": "AEzpWELOfqAp"
      }
    },
    {
      "cell_type": "markdown",
      "source": [
        "## CLIP"
      ],
      "metadata": {
        "id": "8UNOjeBYhsNl"
      }
    },
    {
      "cell_type": "code",
      "source": [],
      "metadata": {
        "id": "ObnzhWfihtS4"
      },
      "execution_count": null,
      "outputs": []
    }
  ]
}