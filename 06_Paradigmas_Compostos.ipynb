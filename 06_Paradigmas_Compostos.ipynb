{
  "nbformat": 4,
  "nbformat_minor": 0,
  "metadata": {
    "colab": {
      "provenance": [],
      "authorship_tag": "ABX9TyNHIuALQanl0uQUaa20uUKd",
      "include_colab_link": true
    },
    "kernelspec": {
      "name": "python3",
      "display_name": "Python 3"
    },
    "language_info": {
      "name": "python"
    }
  },
  "cells": [
    {
      "cell_type": "markdown",
      "metadata": {
        "id": "view-in-github",
        "colab_type": "text"
      },
      "source": [
        "<a href=\"https://colab.research.google.com/github/vhrique/anne_ptbr/blob/main/06_Paradigmas_Compostos.ipynb\" target=\"_parent\"><img src=\"https://colab.research.google.com/assets/colab-badge.svg\" alt=\"Open In Colab\"/></a>"
      ]
    },
    {
      "cell_type": "markdown",
      "source": [
        "# Paradigmas Compostos\n",
        "\n",
        "Os paradigmas compostos em redes neurais artificiais representam abordagens poderosas que integram diferentes aspectos do aprendizado simultâneo para maximizar o desempenho e a eficiência dos modelos. Entre esses paradigmas, destacam-se o multi-task learning, o multi-modal learning e o uso de joint embeddings. O multi-task learning permite que um único modelo resolva múltiplas tarefas ao mesmo tempo, aproveitando o compartilhamento de informações entre elas para melhorar a generalização e eficiência computacional. Já o multi-modal learning envolve a combinação de diferentes tipos de dados, como imagens, texto e áudio, permitindo que redes neurais integrem informações complementares de várias modalidades. Por fim, o joint embedding learning foca na criação de espaços de representação compartilhados, onde diferentes modalidades, como imagens e descrições textuais, podem ser mapeadas e comparadas diretamente, facilitando a interoperabilidade entre elas. Juntos, esses paradigmas formam a base de abordagens avançadas que ampliam o escopo e a flexibilidade das redes neurais artificiais em aplicações complexas e diversas."
      ],
      "metadata": {
        "id": "vUuWQyJ3fhC4"
      }
    },
    {
      "cell_type": "markdown",
      "source": [
        "# Multi-task Learning"
      ],
      "metadata": {
        "id": "zr6_LCzjfkXD"
      }
    },
    {
      "cell_type": "markdown",
      "source": [
        "## Formas"
      ],
      "metadata": {
        "id": "dtBEmT0sfvUp"
      }
    },
    {
      "cell_type": "markdown",
      "source": [
        "## Exemplos"
      ],
      "metadata": {
        "id": "dsT5WwO0f2od"
      }
    },
    {
      "cell_type": "markdown",
      "source": [
        "# Multi-modal Learning"
      ],
      "metadata": {
        "id": "kKenHkh9fniK"
      }
    },
    {
      "cell_type": "markdown",
      "source": [
        "## Entradas Multi Modais"
      ],
      "metadata": {
        "id": "_m_UqQS1f4Qi"
      }
    },
    {
      "cell_type": "markdown",
      "source": [
        "### Perceiver"
      ],
      "metadata": {
        "id": "JDCMC9s6hvnU"
      }
    },
    {
      "cell_type": "markdown",
      "source": [
        "## Modelos para Conversão"
      ],
      "metadata": {
        "id": "QE2E4cRLf7bm"
      }
    },
    {
      "cell_type": "markdown",
      "source": [
        "### DALL-E"
      ],
      "metadata": {
        "id": "Mp1lujVrhzK9"
      }
    },
    {
      "cell_type": "markdown",
      "source": [
        "# Joint-embedding Learning"
      ],
      "metadata": {
        "id": "AEzpWELOfqAp"
      }
    },
    {
      "cell_type": "markdown",
      "source": [
        "## CLIP"
      ],
      "metadata": {
        "id": "8UNOjeBYhsNl"
      }
    },
    {
      "cell_type": "markdown",
      "source": [
        "# Referências\n",
        "\n",
        "- Caruana, R. (1997). Multitask learning. Machine learning, 28, 41-75."
      ],
      "metadata": {
        "id": "bjYeSzfhkZQR"
      }
    },
    {
      "cell_type": "code",
      "source": [],
      "metadata": {
        "id": "ObnzhWfihtS4"
      },
      "execution_count": null,
      "outputs": []
    }
  ]
}