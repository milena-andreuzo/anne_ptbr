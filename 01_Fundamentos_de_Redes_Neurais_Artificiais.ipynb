{
  "nbformat": 4,
  "nbformat_minor": 0,
  "metadata": {
    "colab": {
      "provenance": [],
      "authorship_tag": "ABX9TyNDwlOeo/XCHwEWNr5a9nSA",
      "include_colab_link": true
    },
    "kernelspec": {
      "name": "python3",
      "display_name": "Python 3"
    },
    "language_info": {
      "name": "python"
    }
  },
  "cells": [
    {
      "cell_type": "markdown",
      "metadata": {
        "id": "view-in-github",
        "colab_type": "text"
      },
      "source": [
        "<a href=\"https://colab.research.google.com/github/vhrique/anne2024/blob/main/01_Fundamentos_de_Redes_Neurais_Artificiais.ipynb\" target=\"_parent\"><img src=\"https://colab.research.google.com/assets/colab-badge.svg\" alt=\"Open In Colab\"/></a>"
      ]
    },
    {
      "cell_type": "markdown",
      "source": [
        "# Fundamentos de Redes Neurais Artificiais"
      ],
      "metadata": {
        "id": "ZfznKBS1-Mt_"
      }
    },
    {
      "cell_type": "markdown",
      "source": [
        "## Ferramentas Utilizadas Nesta Aula\n",
        "\n",
        "* Numpy: Pacote com funções para realizar cálculos vetoriais e matriciais\n",
        "* Pyplot: Pacote com funções para criar gráficos\n",
        "* Scikit-Learn: Pacote com algoritmos de Machine Learning e ferramentas auxiliares\n",
        "  * classification_report: Função que cria relatório com métricas de classificação\n",
        "  * ConfusionMatrixDisplay: Classe que auxilia a criar o gráfico da matriz de confusão\n",
        "  * make_classification: Função que cria um problema simples de classificação"
      ],
      "metadata": {
        "id": "FrVa8LqI-svn"
      }
    },
    {
      "cell_type": "code",
      "execution_count": 25,
      "metadata": {
        "id": "ovD3fv6W9SN5"
      },
      "outputs": [],
      "source": [
        "import numpy as np\n",
        "import matplotlib.pyplot as plt\n",
        "\n",
        "from sklearn.metrics import classification_report, ConfusionMatrixDisplay\n",
        "from sklearn.datasets import make_classification"
      ]
    },
    {
      "cell_type": "markdown",
      "source": [
        "# _Perceptron_"
      ],
      "metadata": {
        "id": "JoJGhfWK-fGW"
      }
    },
    {
      "cell_type": "markdown",
      "source": [
        "## Código do _Perceptron_ em Python"
      ],
      "metadata": {
        "id": "FTM9jUT1BX2r"
      }
    },
    {
      "cell_type": "code",
      "source": [
        "class Perceptron:\n",
        "    def __init__(self, input_size, learning_rate=0.01, epochs=100):\n",
        "        self.weights = np.zeros(input_size)\n",
        "        self.bias = 0\n",
        "        self.learning_rate = learning_rate\n",
        "        self.epochs = epochs\n",
        "\n",
        "    def _activation_function(self, x):\n",
        "        return np.where(x >= 0, 1, 0)\n",
        "\n",
        "    def predict(self, X):\n",
        "        linear_output = np.dot(X, self.weights) + self.bias\n",
        "        return self._activation_function(linear_output)\n",
        "\n",
        "    def fit(self, X, y):\n",
        "        for _ in range(self.epochs):\n",
        "            for i in range(X.shape[0]):\n",
        "                y_pred = self.predict(X[i])\n",
        "                if y_pred != y[i]:\n",
        "                    self.weights += self.learning_rate * (y[i] - y_pred) * X[i]\n",
        "                    self.bias += self.learning_rate * (y[i] - y_pred)"
      ],
      "metadata": {
        "id": "oh-HGsEl-egZ"
      },
      "execution_count": 2,
      "outputs": []
    },
    {
      "cell_type": "markdown",
      "source": [
        "## Exemplo de Aplicação - Toy dataset"
      ],
      "metadata": {
        "id": "bPElxj0wCh0v"
      }
    },
    {
      "cell_type": "code",
      "source": [
        "X, y = make_classification(\n",
        "    n_samples=100, n_features=2, n_classes=2,\n",
        "    n_informative=2, n_redundant=0, n_repeated=0\n",
        ")\n",
        "\n",
        "plt.scatter(X[y==0,0], X[y==0,1], s=10, alpha=0.5)\n",
        "plt.scatter(X[y==1,0], X[y==1,1], s=10, alpha=0.5)\n",
        "plt.title('Toy Dataset')\n",
        "plt.xlabel('x0')\n",
        "plt.ylabel('x1')\n",
        "plt.show()"
      ],
      "metadata": {
        "colab": {
          "base_uri": "https://localhost:8080/",
          "height": 472
        },
        "id": "zZIYe6A-DYEq",
        "outputId": "29b93220-fa95-4ec1-d22f-8b2de217cf4a"
      },
      "execution_count": 14,
      "outputs": [
        {
          "output_type": "display_data",
          "data": {
            "text/plain": [
              "<Figure size 640x480 with 1 Axes>"
            ],
            "image/png": "[encoded data removed]"
          },
          "metadata": {}
        }
      ]
    },
    {
      "cell_type": "code",
      "source": [
        "model = Perceptron(input_size=X.shape[1])\n",
        "model.fit(X, y)\n",
        "y_pred = model.predict(X)"
      ],
      "metadata": {
        "id": "RNoY7yMUyUCY"
      },
      "execution_count": 15,
      "outputs": []
    },
    {
      "cell_type": "code",
      "source": [
        "disp = ConfusionMatrixDisplay.from_predictions(\n",
        "    y, y_pred, cmap='Blues', colorbar=False\n",
        ")\n",
        "plt.show()\n",
        "\n",
        "print(\n",
        "    classification_report(y, y_pred)\n",
        ")"
      ],
      "metadata": {
        "id": "K1zrtjg60IoW",
        "outputId": "0311a081-5646-40d9-9732-d6c53fdc6d2c",
        "colab": {
          "base_uri": "https://localhost:8080/",
          "height": 605
        }
      },
      "execution_count": 34,
      "outputs": [
        {
          "output_type": "display_data",
          "data": {
            "text/plain": [
              "<Figure size 640x480 with 1 Axes>"
            ],
            "image/png": "[encoded data removed]"
          },
          "metadata": {}
        },
        {
          "output_type": "stream",
          "name": "stdout",
          "text": [
            "              precision    recall  f1-score   support\n",
            "\n",
            "           0       0.85      0.90      0.87        50\n",
            "           1       0.89      0.84      0.87        50\n",
            "\n",
            "    accuracy                           0.87       100\n",
            "   macro avg       0.87      0.87      0.87       100\n",
            "weighted avg       0.87      0.87      0.87       100\n",
            "\n"
          ]
        }
      ]
    },
    {
      "cell_type": "code",
      "source": [
        "xx, yy = np.meshgrid(np.arange(X[:,0].min(), X[:,0].max(), 0.01),\n",
        "                     np.arange(X[:,1].min(), X[:,1].max(), 0.01))\n",
        "\n",
        "Z = model.predict(np.c_[xx.ravel(), yy.ravel()])\n",
        "Z = Z.reshape(xx.shape)\n",
        "\n",
        "plt.contourf(xx, yy, Z, alpha=0.5, cmap='cividis', antialiased=True)\n",
        "\n",
        "plt.scatter(X[y==0,0], X[y==0,1], s=10)\n",
        "plt.scatter(X[y==1,0], X[y==1,1], s=10)\n",
        "plt.xlim(X[:,0].min(), X[:,0].max())\n",
        "plt.ylim(X[:,1].min(), X[:,1].max())\n",
        "plt.title('Toy Dataset')\n",
        "plt.xlabel('x0')\n",
        "plt.ylabel('x1')\n",
        "plt.show()"
      ],
      "metadata": {
        "id": "j_9xZlHlyeyB",
        "outputId": "85b733f2-d23a-4461-ad02-8e0498afc2a2",
        "colab": {
          "base_uri": "https://localhost:8080/",
          "height": 472
        }
      },
      "execution_count": 52,
      "outputs": [
        {
          "output_type": "display_data",
          "data": {
            "text/plain": [
              "<Figure size 640x480 with 1 Axes>"
            ],
            "image/png": "[encoded data removed]"
          },
          "metadata": {}
        }
      ]
    },
    {
      "cell_type": "markdown",
      "source": [
        "# Perceptron Multicamadas"
      ],
      "metadata": {
        "id": "MYQC5VWn-jm8"
      }
    },
    {
      "cell_type": "code",
      "source": [],
      "metadata": {
        "id": "9PHpfNcr-lPD"
      },
      "execution_count": null,
      "outputs": []
    },
    {
      "cell_type": "markdown",
      "source": [
        "# Backpropagation"
      ],
      "metadata": {
        "id": "AZLAE2bP-mCL"
      }
    },
    {
      "cell_type": "code",
      "source": [],
      "metadata": {
        "id": "oK9bLUg9-n3K"
      },
      "execution_count": null,
      "outputs": []
    },
    {
      "cell_type": "markdown",
      "source": [
        "# Exercícios"
      ],
      "metadata": {
        "id": "mTHUSJJ_-_XX"
      }
    },
    {
      "cell_type": "code",
      "source": [],
      "metadata": {
        "id": "eC6-bQl4--a3"
      },
      "execution_count": null,
      "outputs": []
    },
    {
      "cell_type": "markdown",
      "source": [
        "# Referências"
      ],
      "metadata": {
        "id": "_vel6zM-_DVR"
      }
    },
    {
      "cell_type": "code",
      "source": [],
      "metadata": {
        "id": "pcSUw2U__ERw"
      },
      "execution_count": null,
      "outputs": []
    }
  ]
}