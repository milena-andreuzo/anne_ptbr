{
  "nbformat": 4,
  "nbformat_minor": 0,
  "metadata": {
    "colab": {
      "provenance": [],
      "authorship_tag": "ABX9TyP3TB5tNiVh5GHP9P0CMguE",
      "include_colab_link": true
    },
    "kernelspec": {
      "name": "python3",
      "display_name": "Python 3"
    },
    "language_info": {
      "name": "python"
    }
  },
  "cells": [
    {
      "cell_type": "markdown",
      "metadata": {
        "id": "view-in-github",
        "colab_type": "text"
      },
      "source": [
        "<a href=\"https://colab.research.google.com/github/vhrique/anne2024/blob/main/01_Fundamentos_de_Redes_Neurais_Artificiais.ipynb\" target=\"_parent\"><img src=\"https://colab.research.google.com/assets/colab-badge.svg\" alt=\"Open In Colab\"/></a>"
      ]
    },
    {
      "cell_type": "markdown",
      "source": [
        "# Fundamentos de Redes Neurais Artificiais"
      ],
      "metadata": {
        "id": "ZfznKBS1-Mt_"
      }
    },
    {
      "cell_type": "markdown",
      "source": [
        "## Ferramentas Utilizadas Nesta Aula\n",
        "\n",
        "* Numpy: Pacote com funções para realizar cálculos vetoriais e matriciais\n",
        "* Scikit-Learn: Pacote com algoritmos de Machine Learning e ferramentas auxiliares\n",
        "  * make_classification: Função que cria um problema simples de classificação"
      ],
      "metadata": {
        "id": "FrVa8LqI-svn"
      }
    },
    {
      "cell_type": "code",
      "execution_count": 9,
      "metadata": {
        "id": "ovD3fv6W9SN5"
      },
      "outputs": [],
      "source": [
        "import numpy as np\n",
        "\n",
        "from sklearn.datasets import make_classification\n",
        "from sklearn.metrics import classification_report"
      ]
    },
    {
      "cell_type": "markdown",
      "source": [
        "# _Perceptron_"
      ],
      "metadata": {
        "id": "JoJGhfWK-fGW"
      }
    },
    {
      "cell_type": "markdown",
      "source": [
        "## Código do _Perceptron_ em Python"
      ],
      "metadata": {
        "id": "FTM9jUT1BX2r"
      }
    },
    {
      "cell_type": "code",
      "source": [
        "class Perceptron:\n",
        "    def __init__(self, input_size, learning_rate=0.01, epochs=100):\n",
        "        # Inicialização dos parâmetros do perceptron: pesos (weights) e viés (bias)\n",
        "        self.weights = np.zeros(input_size)\n",
        "        self.bias = 0\n",
        "        # Inicialização dos hiperparâmetros do perceptron: taxa de aprendizagem (learning rate) e número de épocas (epochs)\n",
        "        self.learning_rate = learning_rate\n",
        "        self.epochs = epochs\n",
        "\n",
        "    def activation_function(self, x):\n",
        "        # Função de Ativação utilizando função Sign(x)\n",
        "        return np.where(x >= 0, 1, 0)\n",
        "\n",
        "    def predict(self, X):\n",
        "        # Calcula a combinação linear da entrada com os pesos mais o viés\n",
        "        linear_output = np.dot(X, self.weights) + self.bias\n",
        "        # Aplica a função de ativação e retorna a saída\n",
        "        return self.activation_function(linear_output)\n",
        "\n",
        "    def fit(self, X, y):\n",
        "        # Iteração para cada época\n",
        "        for _ in range(self.epochs):\n",
        "            # Iteração para cada exemplo (podemos paralelizar depois)\n",
        "            for i in range(X.shape[0]):\n",
        "                # Realiza a previsão para a amostra\n",
        "                y_pred = self.predict(X[i])\n",
        "                # Atualiza os pesos e o viés para cada amostra incorreta\n",
        "                if y_pred != y[i]:\n",
        "                    self.weights += self.learning_rate * (y[i] - y_pred) * X[i]\n",
        "                    self.bias += self.learning_rate * (y[i] - y_pred)"
      ],
      "metadata": {
        "id": "oh-HGsEl-egZ"
      },
      "execution_count": 2,
      "outputs": []
    },
    {
      "cell_type": "markdown",
      "source": [
        "## Exemplo de Aplicação - Toy dataset"
      ],
      "metadata": {
        "id": "bPElxj0wCh0v"
      }
    },
    {
      "cell_type": "code",
      "source": [
        "X, y = make_classification(\n",
        "    n_samples=100, n_features=2, n_classes=2,\n",
        "    n_informative=2, n_redundant=0, n_repeated=0\n",
        ")\n",
        "\n",
        "perceptron = Perceptron(input_size=2)\n",
        "\n",
        "perceptron.fit(X, y)\n",
        "\n",
        "y_pred = perceptron.predict(X)\n",
        "\n",
        "print(\n",
        "    classification_report(y, y_pred)\n",
        ")"
      ],
      "metadata": {
        "colab": {
          "base_uri": "https://localhost:8080/"
        },
        "id": "zZIYe6A-DYEq",
        "outputId": "fae44fb2-7f66-4471-bc13-8ea2c0aa9ce0"
      },
      "execution_count": 10,
      "outputs": [
        {
          "output_type": "stream",
          "name": "stdout",
          "text": [
            "              precision    recall  f1-score   support\n",
            "\n",
            "           0       0.98      0.80      0.88        50\n",
            "           1       0.83      0.98      0.90        50\n",
            "\n",
            "    accuracy                           0.89       100\n",
            "   macro avg       0.90      0.89      0.89       100\n",
            "weighted avg       0.90      0.89      0.89       100\n",
            "\n"
          ]
        }
      ]
    },
    {
      "cell_type": "markdown",
      "source": [
        "# Perceptron Multicamadas"
      ],
      "metadata": {
        "id": "MYQC5VWn-jm8"
      }
    },
    {
      "cell_type": "code",
      "source": [],
      "metadata": {
        "id": "9PHpfNcr-lPD"
      },
      "execution_count": null,
      "outputs": []
    },
    {
      "cell_type": "markdown",
      "source": [
        "# Backpropagation"
      ],
      "metadata": {
        "id": "AZLAE2bP-mCL"
      }
    },
    {
      "cell_type": "code",
      "source": [],
      "metadata": {
        "id": "oK9bLUg9-n3K"
      },
      "execution_count": null,
      "outputs": []
    },
    {
      "cell_type": "markdown",
      "source": [
        "# Exercícios"
      ],
      "metadata": {
        "id": "mTHUSJJ_-_XX"
      }
    },
    {
      "cell_type": "code",
      "source": [],
      "metadata": {
        "id": "eC6-bQl4--a3"
      },
      "execution_count": null,
      "outputs": []
    },
    {
      "cell_type": "markdown",
      "source": [
        "# Referências"
      ],
      "metadata": {
        "id": "_vel6zM-_DVR"
      }
    },
    {
      "cell_type": "code",
      "source": [],
      "metadata": {
        "id": "pcSUw2U__ERw"
      },
      "execution_count": null,
      "outputs": []
    }
  ]
}